{
 "cells": [
  {
   "cell_type": "code",
   "execution_count": 1,
   "id": "4f27dd2e",
   "metadata": {},
   "outputs": [],
   "source": [
    "import numpy as np\n",
    "import pandas as pd\n",
    "import matplotlib.pyplot as plt\n",
    "import seaborn as sns"
   ]
  },
  {
   "cell_type": "code",
   "execution_count": 2,
   "id": "3a5e2af1",
   "metadata": {},
   "outputs": [
    {
     "data": {
      "text/html": [
       "<div>\n",
       "<style scoped>\n",
       "    .dataframe tbody tr th:only-of-type {\n",
       "        vertical-align: middle;\n",
       "    }\n",
       "\n",
       "    .dataframe tbody tr th {\n",
       "        vertical-align: top;\n",
       "    }\n",
       "\n",
       "    .dataframe thead th {\n",
       "        text-align: right;\n",
       "    }\n",
       "</style>\n",
       "<table border=\"1\" class=\"dataframe\">\n",
       "  <thead>\n",
       "    <tr style=\"text-align: right;\">\n",
       "      <th></th>\n",
       "      <th>gender</th>\n",
       "      <th>race/ethnicity</th>\n",
       "      <th>parental level of education</th>\n",
       "      <th>lunch</th>\n",
       "      <th>test preparation course</th>\n",
       "      <th>math score</th>\n",
       "      <th>reading score</th>\n",
       "      <th>writing score</th>\n",
       "    </tr>\n",
       "  </thead>\n",
       "  <tbody>\n",
       "    <tr>\n",
       "      <th>0</th>\n",
       "      <td>female</td>\n",
       "      <td>group B</td>\n",
       "      <td>bachelor's degree</td>\n",
       "      <td>standard</td>\n",
       "      <td>none</td>\n",
       "      <td>72</td>\n",
       "      <td>72</td>\n",
       "      <td>74</td>\n",
       "    </tr>\n",
       "    <tr>\n",
       "      <th>1</th>\n",
       "      <td>female</td>\n",
       "      <td>group C</td>\n",
       "      <td>some college</td>\n",
       "      <td>standard</td>\n",
       "      <td>completed</td>\n",
       "      <td>69</td>\n",
       "      <td>90</td>\n",
       "      <td>88</td>\n",
       "    </tr>\n",
       "    <tr>\n",
       "      <th>2</th>\n",
       "      <td>female</td>\n",
       "      <td>group B</td>\n",
       "      <td>master's degree</td>\n",
       "      <td>standard</td>\n",
       "      <td>none</td>\n",
       "      <td>90</td>\n",
       "      <td>95</td>\n",
       "      <td>93</td>\n",
       "    </tr>\n",
       "    <tr>\n",
       "      <th>3</th>\n",
       "      <td>male</td>\n",
       "      <td>group A</td>\n",
       "      <td>associate's degree</td>\n",
       "      <td>free/reduced</td>\n",
       "      <td>none</td>\n",
       "      <td>47</td>\n",
       "      <td>57</td>\n",
       "      <td>44</td>\n",
       "    </tr>\n",
       "    <tr>\n",
       "      <th>4</th>\n",
       "      <td>male</td>\n",
       "      <td>group C</td>\n",
       "      <td>some college</td>\n",
       "      <td>standard</td>\n",
       "      <td>none</td>\n",
       "      <td>76</td>\n",
       "      <td>78</td>\n",
       "      <td>75</td>\n",
       "    </tr>\n",
       "  </tbody>\n",
       "</table>\n",
       "</div>"
      ],
      "text/plain": [
       "   gender race/ethnicity parental level of education         lunch  \\\n",
       "0  female        group B           bachelor's degree      standard   \n",
       "1  female        group C                some college      standard   \n",
       "2  female        group B             master's degree      standard   \n",
       "3    male        group A          associate's degree  free/reduced   \n",
       "4    male        group C                some college      standard   \n",
       "\n",
       "  test preparation course  math score  reading score  writing score  \n",
       "0                    none          72             72             74  \n",
       "1               completed          69             90             88  \n",
       "2                    none          90             95             93  \n",
       "3                    none          47             57             44  \n",
       "4                    none          76             78             75  "
      ]
     },
     "execution_count": 2,
     "metadata": {},
     "output_type": "execute_result"
    }
   ],
   "source": [
    "df=pd.read_csv(r'C:\\Users\\SOOSAN SHABNAM\\OneDrive\\Desktop\\STC Task 2\\StudentsPerformance.csv')\n",
    "lr=df[\"race/ethnicity\"]\n",
    "df.head()"
   ]
  },
  {
   "cell_type": "code",
   "execution_count": 3,
   "id": "2b12719d",
   "metadata": {},
   "outputs": [
    {
     "data": {
      "text/html": [
       "<div>\n",
       "<style scoped>\n",
       "    .dataframe tbody tr th:only-of-type {\n",
       "        vertical-align: middle;\n",
       "    }\n",
       "\n",
       "    .dataframe tbody tr th {\n",
       "        vertical-align: top;\n",
       "    }\n",
       "\n",
       "    .dataframe thead th {\n",
       "        text-align: right;\n",
       "    }\n",
       "</style>\n",
       "<table border=\"1\" class=\"dataframe\">\n",
       "  <thead>\n",
       "    <tr style=\"text-align: right;\">\n",
       "      <th></th>\n",
       "      <th>gender</th>\n",
       "      <th>race/ethnicity</th>\n",
       "      <th>parental level of education</th>\n",
       "      <th>lunch</th>\n",
       "      <th>test preparation course</th>\n",
       "      <th>math score</th>\n",
       "      <th>reading score</th>\n",
       "      <th>writing score</th>\n",
       "      <th>avg_score</th>\n",
       "    </tr>\n",
       "  </thead>\n",
       "  <tbody>\n",
       "    <tr>\n",
       "      <th>0</th>\n",
       "      <td>female</td>\n",
       "      <td>group B</td>\n",
       "      <td>bachelor's degree</td>\n",
       "      <td>standard</td>\n",
       "      <td>none</td>\n",
       "      <td>72</td>\n",
       "      <td>72</td>\n",
       "      <td>74</td>\n",
       "      <td>72.666667</td>\n",
       "    </tr>\n",
       "    <tr>\n",
       "      <th>1</th>\n",
       "      <td>female</td>\n",
       "      <td>group C</td>\n",
       "      <td>some college</td>\n",
       "      <td>standard</td>\n",
       "      <td>completed</td>\n",
       "      <td>69</td>\n",
       "      <td>90</td>\n",
       "      <td>88</td>\n",
       "      <td>82.333333</td>\n",
       "    </tr>\n",
       "    <tr>\n",
       "      <th>2</th>\n",
       "      <td>female</td>\n",
       "      <td>group B</td>\n",
       "      <td>master's degree</td>\n",
       "      <td>standard</td>\n",
       "      <td>none</td>\n",
       "      <td>90</td>\n",
       "      <td>95</td>\n",
       "      <td>93</td>\n",
       "      <td>92.666667</td>\n",
       "    </tr>\n",
       "    <tr>\n",
       "      <th>3</th>\n",
       "      <td>male</td>\n",
       "      <td>group A</td>\n",
       "      <td>associate's degree</td>\n",
       "      <td>free/reduced</td>\n",
       "      <td>none</td>\n",
       "      <td>47</td>\n",
       "      <td>57</td>\n",
       "      <td>44</td>\n",
       "      <td>49.333333</td>\n",
       "    </tr>\n",
       "    <tr>\n",
       "      <th>4</th>\n",
       "      <td>male</td>\n",
       "      <td>group C</td>\n",
       "      <td>some college</td>\n",
       "      <td>standard</td>\n",
       "      <td>none</td>\n",
       "      <td>76</td>\n",
       "      <td>78</td>\n",
       "      <td>75</td>\n",
       "      <td>76.333333</td>\n",
       "    </tr>\n",
       "  </tbody>\n",
       "</table>\n",
       "</div>"
      ],
      "text/plain": [
       "   gender race/ethnicity parental level of education         lunch  \\\n",
       "0  female        group B           bachelor's degree      standard   \n",
       "1  female        group C                some college      standard   \n",
       "2  female        group B             master's degree      standard   \n",
       "3    male        group A          associate's degree  free/reduced   \n",
       "4    male        group C                some college      standard   \n",
       "\n",
       "  test preparation course  math score  reading score  writing score  avg_score  \n",
       "0                    none          72             72             74  72.666667  \n",
       "1               completed          69             90             88  82.333333  \n",
       "2                    none          90             95             93  92.666667  \n",
       "3                    none          47             57             44  49.333333  \n",
       "4                    none          76             78             75  76.333333  "
      ]
     },
     "execution_count": 3,
     "metadata": {},
     "output_type": "execute_result"
    }
   ],
   "source": [
    "df['avg_score']=(df['math score']+df['reading score']+df['writing score'])/3\n",
    "df.head()"
   ]
  },
  {
   "cell_type": "code",
   "execution_count": 4,
   "id": "28f1c5ac",
   "metadata": {},
   "outputs": [
    {
     "name": "stdout",
     "output_type": "stream",
     "text": [
      "<class 'pandas.core.frame.DataFrame'>\n",
      "RangeIndex: 1000 entries, 0 to 999\n",
      "Data columns (total 9 columns):\n",
      " #   Column                       Non-Null Count  Dtype  \n",
      "---  ------                       --------------  -----  \n",
      " 0   gender                       1000 non-null   object \n",
      " 1   race/ethnicity               1000 non-null   object \n",
      " 2   parental level of education  1000 non-null   object \n",
      " 3   lunch                        1000 non-null   object \n",
      " 4   test preparation course      1000 non-null   object \n",
      " 5   math score                   1000 non-null   int64  \n",
      " 6   reading score                1000 non-null   int64  \n",
      " 7   writing score                1000 non-null   int64  \n",
      " 8   avg_score                    1000 non-null   float64\n",
      "dtypes: float64(1), int64(3), object(5)\n",
      "memory usage: 70.4+ KB\n"
     ]
    }
   ],
   "source": [
    "df.info()"
   ]
  },
  {
   "cell_type": "markdown",
   "id": "71060da2",
   "metadata": {},
   "source": [
    "# TASK 2(PART 1) --> ANSWER 1\n"
   ]
  },
  {
   "cell_type": "code",
   "execution_count": 5,
   "id": "259bf37f",
   "metadata": {},
   "outputs": [
    {
     "data": {
      "text/plain": [
       "gender\n",
       "female    69.569498\n",
       "male      65.837483\n",
       "Name: avg_score, dtype: float64"
      ]
     },
     "execution_count": 5,
     "metadata": {},
     "output_type": "execute_result"
    }
   ],
   "source": [
    "df.groupby(by='gender')['avg_score'].mean()"
   ]
  },
  {
   "cell_type": "markdown",
   "id": "1bb7739b",
   "metadata": {},
   "source": [
    "# TASK 2(PART 1)--> ANSWER 2      "
   ]
  },
  {
   "cell_type": "code",
   "execution_count": 6,
   "id": "15db0deb",
   "metadata": {},
   "outputs": [
    {
     "data": {
      "text/plain": [
       "female    518\n",
       "male      482\n",
       "Name: gender, dtype: int64"
      ]
     },
     "execution_count": 6,
     "metadata": {},
     "output_type": "execute_result"
    }
   ],
   "source": [
    "df['gender'].value_counts()\n"
   ]
  },
  {
   "cell_type": "code",
   "execution_count": 7,
   "id": "2637a3c0",
   "metadata": {},
   "outputs": [
    {
     "data": {
      "text/plain": [
       "1.037344398340249"
      ]
     },
     "execution_count": 7,
     "metadata": {},
     "output_type": "execute_result"
    }
   ],
   "source": [
    "len(df[(df['gender'] == 'male') &\n",
    "     (df['math score'] > 80) & \n",
    "     (df['reading score'] > 85)&\n",
    "    (df['parental level of education']=='bachelor\\'s degree')])*100/482"
   ]
  },
  {
   "cell_type": "markdown",
   "id": "08994413",
   "metadata": {},
   "source": [
    "# TASK 2(PART 1)--> ANSWER 3"
   ]
  },
  {
   "cell_type": "code",
   "execution_count": 8,
   "id": "9fe7e1cd",
   "metadata": {},
   "outputs": [
    {
     "data": {
      "text/plain": [
       "18"
      ]
     },
     "execution_count": 8,
     "metadata": {},
     "output_type": "execute_result"
    }
   ],
   "source": [
    "options=['bachelor\\'s degree','high school']\n",
    "len(df[(df['gender']=='male')& (df['race/ethnicity']=='group E')& (df['parental level of education'].isin(options))])"
   ]
  },
  {
   "cell_type": "markdown",
   "id": "701f9861",
   "metadata": {},
   "source": [
    "# TASK 2(PART 1)--> ANSWER 4"
   ]
  },
  {
   "cell_type": "code",
   "execution_count": 9,
   "id": "0ae773ad",
   "metadata": {},
   "outputs": [
    {
     "data": {
      "text/plain": [
       "<AxesSubplot:xlabel='race/ethnicity'>"
      ]
     },
     "execution_count": 9,
     "metadata": {},
     "output_type": "execute_result"
    },
    {
     "data": {
      "image/png": "[encoded data removed]",
      "text/plain": [
       "<Figure size 432x288 with 1 Axes>"
      ]
     },
     "metadata": {
      "needs_background": "light"
     },
     "output_type": "display_data"
    }
   ],
   "source": [
    "df.groupby(by='race/ethnicity')['math score'].max().plot(kind=\"bar\")"
   ]
  },
  {
   "cell_type": "code",
   "execution_count": 10,
   "id": "2ad2144f",
   "metadata": {},
   "outputs": [
    {
     "data": {
      "text/plain": [
       "<AxesSubplot:xlabel='race/ethnicity'>"
      ]
     },
     "execution_count": 10,
     "metadata": {},
     "output_type": "execute_result"
    },
    {
     "data": {
      "image/png": "[encoded data removed]",
      "text/plain": [
       "<Figure size 432x288 with 1 Axes>"
      ]
     },
     "metadata": {
      "needs_background": "light"
     },
     "output_type": "display_data"
    }
   ],
   "source": [
    "df.groupby(by='race/ethnicity')['reading score'].max().plot(kind=\"bar\")"
   ]
  },
  {
   "cell_type": "code",
   "execution_count": 11,
   "id": "a1b3383a",
   "metadata": {},
   "outputs": [
    {
     "data": {
      "text/plain": [
       "<AxesSubplot:xlabel='race/ethnicity'>"
      ]
     },
     "execution_count": 11,
     "metadata": {},
     "output_type": "execute_result"
    },
    {
     "data": {
      "image/png": "[encoded data removed]",
      "text/plain": [
       "<Figure size 432x288 with 1 Axes>"
      ]
     },
     "metadata": {
      "needs_background": "light"
     },
     "output_type": "display_data"
    }
   ],
   "source": [
    "df.groupby(by='race/ethnicity')['writing score'].max().plot(kind=\"bar\")"
   ]
  },
  {
   "cell_type": "markdown",
   "id": "f422c721",
   "metadata": {},
   "source": [
    "# TASK 2(PART 1)--> ANSWER 5"
   ]
  },
  {
   "cell_type": "code",
   "execution_count": 12,
   "id": "450b97e1",
   "metadata": {},
   "outputs": [
    {
     "data": {
      "text/plain": [
       "<AxesSubplot:xlabel='gender'>"
      ]
     },
     "execution_count": 12,
     "metadata": {},
     "output_type": "execute_result"
    },
    {
     "data": {
      "image/png": "[encoded data removed]",
      "text/plain": [
       "<Figure size 432x288 with 1 Axes>"
      ]
     },
     "metadata": {
      "needs_background": "light"
     },
     "output_type": "display_data"
    }
   ],
   "source": [
    "df1 =df.groupby(['gender','test preparation course']).size()\n",
    "df1 = df1.unstack()\n",
    "df1.plot(kind = 'bar')"
   ]
  },
  {
   "cell_type": "markdown",
   "id": "ed27986d",
   "metadata": {},
   "source": [
    "# TASK 2(PART 1)--> ANSWER 6"
   ]
  },
  {
   "cell_type": "code",
   "execution_count": 13,
   "id": "4c2916c2",
   "metadata": {},
   "outputs": [
    {
     "data": {
      "text/plain": [
       "<AxesSubplot:xlabel='gender'>"
      ]
     },
     "execution_count": 13,
     "metadata": {},
     "output_type": "execute_result"
    },
    {
     "data": {
      "image/png": "[encoded data removed]",
      "text/plain": [
       "<Figure size 432x288 with 1 Axes>"
      ]
     },
     "metadata": {
      "needs_background": "light"
     },
     "output_type": "display_data"
    }
   ],
   "source": [
    "df.plot(x=\"gender\",y=[\"math score\",\"reading score\",\"writing score\"])"
   ]
  },
  {
   "cell_type": "markdown",
   "id": "fb5f6e9e",
   "metadata": {},
   "source": [
    "# TASK 2(PART 1)--> ANSWER 7"
   ]
  },
  {
   "cell_type": "code",
   "execution_count": 14,
   "id": "25786742",
   "metadata": {},
   "outputs": [
    {
     "data": {
      "text/plain": [
       "<AxesSubplot:>"
      ]
     },
     "execution_count": 14,
     "metadata": {},
     "output_type": "execute_result"
    },
    {
     "data": {
      "image/png": "[encoded data removed]",
      "text/plain": [
       "<Figure size 432x288 with 2 Axes>"
      ]
     },
     "metadata": {
      "needs_background": "light"
     },
     "output_type": "display_data"
    }
   ],
   "source": [
    "sns.heatmap(df.corr())"
   ]
  },
  {
   "cell_type": "markdown",
   "id": "f87c4c8a",
   "metadata": {},
   "source": [
    "# TASK 2(PART 1)--> ANSWER 8"
   ]
  },
  {
   "cell_type": "code",
   "execution_count": 15,
   "id": "18a12bb3",
   "metadata": {},
   "outputs": [
    {
     "data": {
      "text/plain": [
       "<AxesSubplot:xlabel='parental level of education', ylabel='avg_score'>"
      ]
     },
     "execution_count": 15,
     "metadata": {},
     "output_type": "execute_result"
    },
    {
     "data": {
      "image/png": "[encoded data removed]",
      "text/plain": [
       "<Figure size 720x720 with 1 Axes>"
      ]
     },
     "metadata": {
      "needs_background": "light"
     },
     "output_type": "display_data"
    }
   ],
   "source": [
    "plt.figure(figsize=(10,10))\n",
    "sns.scatterplot(data=df, x=\"parental level of education\", y=\"avg_score\", hue=\"race/ethnicity\")"
   ]
  },
  {
   "cell_type": "markdown",
   "id": "9751c326",
   "metadata": {},
   "source": [
    "# TASK 2(PART 1)--> ANSWER 9"
   ]
  },
  {
   "cell_type": "code",
   "execution_count": 16,
   "id": "d7a39388",
   "metadata": {},
   "outputs": [
    {
     "data": {
      "text/plain": [
       "<matplotlib.collections.PathCollection at 0x1b28e9621c0>"
      ]
     },
     "execution_count": 16,
     "metadata": {},
     "output_type": "execute_result"
    },
    {
     "data": {
      "image/png": "[encoded data removed]",
      "text/plain": [
       "<Figure size 720x720 with 1 Axes>"
      ]
     },
     "metadata": {
      "needs_background": "light"
     },
     "output_type": "display_data"
    }
   ],
   "source": [
    "plt.figure(figsize=(10,10))\n",
    "plt.scatter(df['math score'], df['test preparation course'])\n",
    "plt.scatter(df['reading score'], df['test preparation course'])\n",
    "plt.scatter(df['writing score'], df['test preparation course'])\n"
   ]
  },
  {
   "cell_type": "markdown",
   "id": "926f722f",
   "metadata": {},
   "source": [
    "# TASK 2(PART 1)--> ANSWER 10"
   ]
  },
  {
   "cell_type": "code",
   "execution_count": 17,
   "id": "38107b64",
   "metadata": {},
   "outputs": [
    {
     "data": {
      "text/plain": [
       "<AxesSubplot:xlabel='math score', ylabel='Density'>"
      ]
     },
     "execution_count": 17,
     "metadata": {},
     "output_type": "execute_result"
    },
    {
     "data": {
      "image/png": "[encoded data removed]",
      "text/plain": [
       "<Figure size 720x720 with 1 Axes>"
      ]
     },
     "metadata": {
      "needs_background": "light"
     },
     "output_type": "display_data"
    }
   ],
   "source": [
    "plt.figure(figsize=(10,10))\n",
    "sns.kdeplot(data=df, x='math score')\n",
    "sns.kdeplot(data=df, x='reading score')\n",
    "sns.kdeplot(data=df, x='writing score')          ## graph is right skewed "
   ]
  },
  {
   "cell_type": "markdown",
   "id": "e8be5254",
   "metadata": {},
   "source": [
    "# TASK 2(PART 1)--> BONUS"
   ]
  },
  {
   "cell_type": "code",
   "execution_count": 18,
   "id": "e1a585ec",
   "metadata": {},
   "outputs": [
    {
     "data": {
      "text/html": [
       "<div>\n",
       "<style scoped>\n",
       "    .dataframe tbody tr th:only-of-type {\n",
       "        vertical-align: middle;\n",
       "    }\n",
       "\n",
       "    .dataframe tbody tr th {\n",
       "        vertical-align: top;\n",
       "    }\n",
       "\n",
       "    .dataframe thead th {\n",
       "        text-align: right;\n",
       "    }\n",
       "</style>\n",
       "<table border=\"1\" class=\"dataframe\">\n",
       "  <thead>\n",
       "    <tr style=\"text-align: right;\">\n",
       "      <th></th>\n",
       "      <th>gender</th>\n",
       "      <th>race/ethnicity</th>\n",
       "      <th>parental level of education</th>\n",
       "      <th>lunch</th>\n",
       "      <th>test preparation course</th>\n",
       "      <th>math score</th>\n",
       "      <th>reading score</th>\n",
       "      <th>writing score</th>\n",
       "      <th>avg_score</th>\n",
       "    </tr>\n",
       "  </thead>\n",
       "  <tbody>\n",
       "    <tr>\n",
       "      <th>0</th>\n",
       "      <td>female</td>\n",
       "      <td>group B</td>\n",
       "      <td>bachelor's degree</td>\n",
       "      <td>standard</td>\n",
       "      <td>none</td>\n",
       "      <td>72</td>\n",
       "      <td>72</td>\n",
       "      <td>74</td>\n",
       "      <td>72.666667</td>\n",
       "    </tr>\n",
       "    <tr>\n",
       "      <th>1</th>\n",
       "      <td>female</td>\n",
       "      <td>group C</td>\n",
       "      <td>some college</td>\n",
       "      <td>standard</td>\n",
       "      <td>completed</td>\n",
       "      <td>69</td>\n",
       "      <td>90</td>\n",
       "      <td>88</td>\n",
       "      <td>82.333333</td>\n",
       "    </tr>\n",
       "    <tr>\n",
       "      <th>2</th>\n",
       "      <td>female</td>\n",
       "      <td>group B</td>\n",
       "      <td>master's degree</td>\n",
       "      <td>standard</td>\n",
       "      <td>none</td>\n",
       "      <td>90</td>\n",
       "      <td>95</td>\n",
       "      <td>93</td>\n",
       "      <td>92.666667</td>\n",
       "    </tr>\n",
       "    <tr>\n",
       "      <th>3</th>\n",
       "      <td>male</td>\n",
       "      <td>group A</td>\n",
       "      <td>associate's degree</td>\n",
       "      <td>free/reduced</td>\n",
       "      <td>none</td>\n",
       "      <td>47</td>\n",
       "      <td>57</td>\n",
       "      <td>44</td>\n",
       "      <td>49.333333</td>\n",
       "    </tr>\n",
       "    <tr>\n",
       "      <th>4</th>\n",
       "      <td>male</td>\n",
       "      <td>group C</td>\n",
       "      <td>some college</td>\n",
       "      <td>standard</td>\n",
       "      <td>none</td>\n",
       "      <td>76</td>\n",
       "      <td>78</td>\n",
       "      <td>75</td>\n",
       "      <td>76.333333</td>\n",
       "    </tr>\n",
       "  </tbody>\n",
       "</table>\n",
       "</div>"
      ],
      "text/plain": [
       "   gender race/ethnicity parental level of education         lunch  \\\n",
       "0  female        group B           bachelor's degree      standard   \n",
       "1  female        group C                some college      standard   \n",
       "2  female        group B             master's degree      standard   \n",
       "3    male        group A          associate's degree  free/reduced   \n",
       "4    male        group C                some college      standard   \n",
       "\n",
       "  test preparation course  math score  reading score  writing score  avg_score  \n",
       "0                    none          72             72             74  72.666667  \n",
       "1               completed          69             90             88  82.333333  \n",
       "2                    none          90             95             93  92.666667  \n",
       "3                    none          47             57             44  49.333333  \n",
       "4                    none          76             78             75  76.333333  "
      ]
     },
     "execution_count": 18,
     "metadata": {},
     "output_type": "execute_result"
    }
   ],
   "source": [
    "df.head()"
   ]
  },
  {
   "cell_type": "code",
   "execution_count": 19,
   "id": "62167928",
   "metadata": {},
   "outputs": [
    {
     "data": {
      "text/html": [
       "<div>\n",
       "<style scoped>\n",
       "    .dataframe tbody tr th:only-of-type {\n",
       "        vertical-align: middle;\n",
       "    }\n",
       "\n",
       "    .dataframe tbody tr th {\n",
       "        vertical-align: top;\n",
       "    }\n",
       "\n",
       "    .dataframe thead th {\n",
       "        text-align: right;\n",
       "    }\n",
       "</style>\n",
       "<table border=\"1\" class=\"dataframe\">\n",
       "  <thead>\n",
       "    <tr style=\"text-align: right;\">\n",
       "      <th></th>\n",
       "      <th>gender</th>\n",
       "      <th>race/ethnicity</th>\n",
       "      <th>parental level of education</th>\n",
       "      <th>lunch</th>\n",
       "      <th>test preparation course</th>\n",
       "      <th>math score</th>\n",
       "      <th>reading score</th>\n",
       "      <th>writing score</th>\n",
       "      <th>avg_score</th>\n",
       "    </tr>\n",
       "  </thead>\n",
       "  <tbody>\n",
       "    <tr>\n",
       "      <th>0</th>\n",
       "      <td>0</td>\n",
       "      <td>2</td>\n",
       "      <td>bachelor's degree</td>\n",
       "      <td>standard</td>\n",
       "      <td>0</td>\n",
       "      <td>72</td>\n",
       "      <td>72</td>\n",
       "      <td>74</td>\n",
       "      <td>72.666667</td>\n",
       "    </tr>\n",
       "    <tr>\n",
       "      <th>1</th>\n",
       "      <td>0</td>\n",
       "      <td>3</td>\n",
       "      <td>some college</td>\n",
       "      <td>standard</td>\n",
       "      <td>1</td>\n",
       "      <td>69</td>\n",
       "      <td>90</td>\n",
       "      <td>88</td>\n",
       "      <td>82.333333</td>\n",
       "    </tr>\n",
       "    <tr>\n",
       "      <th>2</th>\n",
       "      <td>0</td>\n",
       "      <td>2</td>\n",
       "      <td>master's degree</td>\n",
       "      <td>standard</td>\n",
       "      <td>0</td>\n",
       "      <td>90</td>\n",
       "      <td>95</td>\n",
       "      <td>93</td>\n",
       "      <td>92.666667</td>\n",
       "    </tr>\n",
       "    <tr>\n",
       "      <th>3</th>\n",
       "      <td>1</td>\n",
       "      <td>1</td>\n",
       "      <td>associate's degree</td>\n",
       "      <td>free/reduced</td>\n",
       "      <td>0</td>\n",
       "      <td>47</td>\n",
       "      <td>57</td>\n",
       "      <td>44</td>\n",
       "      <td>49.333333</td>\n",
       "    </tr>\n",
       "    <tr>\n",
       "      <th>4</th>\n",
       "      <td>1</td>\n",
       "      <td>3</td>\n",
       "      <td>some college</td>\n",
       "      <td>standard</td>\n",
       "      <td>0</td>\n",
       "      <td>76</td>\n",
       "      <td>78</td>\n",
       "      <td>75</td>\n",
       "      <td>76.333333</td>\n",
       "    </tr>\n",
       "  </tbody>\n",
       "</table>\n",
       "</div>"
      ],
      "text/plain": [
       "   gender  race/ethnicity parental level of education         lunch  \\\n",
       "0       0               2           bachelor's degree      standard   \n",
       "1       0               3                some college      standard   \n",
       "2       0               2             master's degree      standard   \n",
       "3       1               1          associate's degree  free/reduced   \n",
       "4       1               3                some college      standard   \n",
       "\n",
       "   test preparation course  math score  reading score  writing score  \\\n",
       "0                        0          72             72             74   \n",
       "1                        1          69             90             88   \n",
       "2                        0          90             95             93   \n",
       "3                        0          47             57             44   \n",
       "4                        0          76             78             75   \n",
       "\n",
       "   avg_score  \n",
       "0  72.666667  \n",
       "1  82.333333  \n",
       "2  92.666667  \n",
       "3  49.333333  \n",
       "4  76.333333  "
      ]
     },
     "execution_count": 19,
     "metadata": {},
     "output_type": "execute_result"
    }
   ],
   "source": [
    "df['gender']=df['gender'].replace(['female','male'],[0,1])\n",
    "df['test preparation course']=df['test preparation course'].replace(['none','completed'],[0,1])\n",
    "df['race/ethnicity']=df['race/ethnicity'].replace(['group A','group B','group C','group D','group E'],[1,2,3,4,5])\n",
    "df.head()"
   ]
  },
  {
   "cell_type": "code",
   "execution_count": 20,
   "id": "ca688b14",
   "metadata": {},
   "outputs": [
    {
     "data": {
      "text/plain": [
       "array(['standard', 'free/reduced'], dtype=object)"
      ]
     },
     "execution_count": 20,
     "metadata": {},
     "output_type": "execute_result"
    }
   ],
   "source": [
    "df[\"lunch\"].unique()"
   ]
  },
  {
   "cell_type": "code",
   "execution_count": 21,
   "id": "f897ca4d",
   "metadata": {},
   "outputs": [
    {
     "data": {
      "text/plain": [
       "array([\"bachelor's degree\", 'some college', \"master's degree\",\n",
       "       \"associate's degree\", 'high school', 'some high school'],\n",
       "      dtype=object)"
      ]
     },
     "execution_count": 21,
     "metadata": {},
     "output_type": "execute_result"
    }
   ],
   "source": [
    "df[\"parental level of education\"].unique()"
   ]
  },
  {
   "cell_type": "code",
   "execution_count": 22,
   "id": "2e005990",
   "metadata": {},
   "outputs": [],
   "source": [
    "df['lunch']=df['lunch'].replace(['standard','free/reduced'],[0,1])\n",
    "df['parental level of education']=df['parental level of education'].replace(['bachelor\\'s degree','some college','master\\'s degree','associate\\'s degree','high school','some high school'],[1,2,3,4,5,6])"
   ]
  },
  {
   "cell_type": "code",
   "execution_count": 23,
   "id": "05da7f29",
   "metadata": {},
   "outputs": [
    {
     "data": {
      "text/html": [
       "<div>\n",
       "<style scoped>\n",
       "    .dataframe tbody tr th:only-of-type {\n",
       "        vertical-align: middle;\n",
       "    }\n",
       "\n",
       "    .dataframe tbody tr th {\n",
       "        vertical-align: top;\n",
       "    }\n",
       "\n",
       "    .dataframe thead th {\n",
       "        text-align: right;\n",
       "    }\n",
       "</style>\n",
       "<table border=\"1\" class=\"dataframe\">\n",
       "  <thead>\n",
       "    <tr style=\"text-align: right;\">\n",
       "      <th></th>\n",
       "      <th>gender</th>\n",
       "      <th>race/ethnicity</th>\n",
       "      <th>parental level of education</th>\n",
       "      <th>lunch</th>\n",
       "      <th>test preparation course</th>\n",
       "      <th>math score</th>\n",
       "      <th>reading score</th>\n",
       "      <th>writing score</th>\n",
       "      <th>avg_score</th>\n",
       "    </tr>\n",
       "  </thead>\n",
       "  <tbody>\n",
       "    <tr>\n",
       "      <th>0</th>\n",
       "      <td>0</td>\n",
       "      <td>2</td>\n",
       "      <td>1</td>\n",
       "      <td>0</td>\n",
       "      <td>0</td>\n",
       "      <td>72</td>\n",
       "      <td>72</td>\n",
       "      <td>74</td>\n",
       "      <td>72.666667</td>\n",
       "    </tr>\n",
       "    <tr>\n",
       "      <th>1</th>\n",
       "      <td>0</td>\n",
       "      <td>3</td>\n",
       "      <td>2</td>\n",
       "      <td>0</td>\n",
       "      <td>1</td>\n",
       "      <td>69</td>\n",
       "      <td>90</td>\n",
       "      <td>88</td>\n",
       "      <td>82.333333</td>\n",
       "    </tr>\n",
       "    <tr>\n",
       "      <th>2</th>\n",
       "      <td>0</td>\n",
       "      <td>2</td>\n",
       "      <td>3</td>\n",
       "      <td>0</td>\n",
       "      <td>0</td>\n",
       "      <td>90</td>\n",
       "      <td>95</td>\n",
       "      <td>93</td>\n",
       "      <td>92.666667</td>\n",
       "    </tr>\n",
       "    <tr>\n",
       "      <th>3</th>\n",
       "      <td>1</td>\n",
       "      <td>1</td>\n",
       "      <td>4</td>\n",
       "      <td>1</td>\n",
       "      <td>0</td>\n",
       "      <td>47</td>\n",
       "      <td>57</td>\n",
       "      <td>44</td>\n",
       "      <td>49.333333</td>\n",
       "    </tr>\n",
       "    <tr>\n",
       "      <th>4</th>\n",
       "      <td>1</td>\n",
       "      <td>3</td>\n",
       "      <td>2</td>\n",
       "      <td>0</td>\n",
       "      <td>0</td>\n",
       "      <td>76</td>\n",
       "      <td>78</td>\n",
       "      <td>75</td>\n",
       "      <td>76.333333</td>\n",
       "    </tr>\n",
       "  </tbody>\n",
       "</table>\n",
       "</div>"
      ],
      "text/plain": [
       "   gender  race/ethnicity  parental level of education  lunch  \\\n",
       "0       0               2                            1      0   \n",
       "1       0               3                            2      0   \n",
       "2       0               2                            3      0   \n",
       "3       1               1                            4      1   \n",
       "4       1               3                            2      0   \n",
       "\n",
       "   test preparation course  math score  reading score  writing score  \\\n",
       "0                        0          72             72             74   \n",
       "1                        1          69             90             88   \n",
       "2                        0          90             95             93   \n",
       "3                        0          47             57             44   \n",
       "4                        0          76             78             75   \n",
       "\n",
       "   avg_score  \n",
       "0  72.666667  \n",
       "1  82.333333  \n",
       "2  92.666667  \n",
       "3  49.333333  \n",
       "4  76.333333  "
      ]
     },
     "execution_count": 23,
     "metadata": {},
     "output_type": "execute_result"
    }
   ],
   "source": [
    "df.head()"
   ]
  },
  {
   "cell_type": "markdown",
   "id": "52a7e183",
   "metadata": {},
   "source": [
    "# TASK 2(PART 2)--> ANSWER 1 AND 3"
   ]
  },
  {
   "cell_type": "code",
   "execution_count": 24,
   "id": "f96e8e8a",
   "metadata": {},
   "outputs": [],
   "source": [
    "X=df.drop(['math score','reading score','writing score'],axis=1)\n",
    "y1=df['math score']\n",
    "y2=df['reading score']\n",
    "y3=df['writing score']"
   ]
  },
  {
   "cell_type": "code",
   "execution_count": 25,
   "id": "fc765eaa",
   "metadata": {},
   "outputs": [],
   "source": [
    "from sklearn.model_selection import train_test_split\n",
    "X1_train,X1_test,y1_train,y1_test=train_test_split(X,y1,test_size=0.2,random_state=101)\n",
    "X2_train, X2_test, y2_train, y2_test = train_test_split(X, y2, test_size=0.2, random_state=101)\n",
    "X3_train, X3_test, y3_train, y3_test = train_test_split(X, y3, test_size=0.2, random_state=101)\n",
    "  "
   ]
  },
  {
   "cell_type": "code",
   "execution_count": 26,
   "id": "8e0e12e8",
   "metadata": {},
   "outputs": [],
   "source": [
    "def run_model(model,X_train,y_train,X_test,y_test):\n",
    "    model.fit(X_train, y_train)\n",
    "    preds=model.predict(X_test)\n",
    "    from sklearn.metrics import mean_absolute_error, mean_squared_error, accuracy_score\n",
    "    rmse=np.sqrt(mean_squared_error(y_test,preds))\n",
    "    mae=mean_absolute_error(y_test,preds)\n",
    "    print(f'MAE IS {mae}')\n",
    "    print(f'RMSE IS {rmse}')\n",
    "    sns.scatterplot(x=y_test,y=preds)\n",
    "    "
   ]
  },
  {
   "cell_type": "markdown",
   "id": "6e6f7070",
   "metadata": {},
   "source": [
    "# Linear Regression:"
   ]
  },
  {
   "cell_type": "code",
   "execution_count": 27,
   "id": "2337747b",
   "metadata": {},
   "outputs": [
    {
     "name": "stdout",
     "output_type": "stream",
     "text": [
      "For maths score:\n",
      "MAE IS 3.0615883758291\n",
      "RMSE IS 3.871461068667278\n",
      "For reading score:\n",
      "MAE IS 2.4691340363413605\n",
      "RMSE IS 3.151314599279383\n",
      "For writing score:\n",
      "MAE IS 2.1715162429251302\n",
      "RMSE IS 2.7198743131692713\n"
     ]
    },
    {
     "data": {
      "image/png": "[encoded data removed]",
      "text/plain": [
       "<Figure size 432x288 with 1 Axes>"
      ]
     },
     "metadata": {
      "needs_background": "light"
     },
     "output_type": "display_data"
    }
   ],
   "source": [
    "from sklearn.linear_model import LinearRegression\n",
    "model=LinearRegression()\n",
    "print(\"For maths score:\")\n",
    "run_model(model,X1_train,y1_train,X1_test,y1_test)\n",
    "print(\"For reading score:\")\n",
    "run_model(model,X2_train,y2_train,X2_test,y2_test)\n",
    "print(\"For writing score:\")\n",
    "run_model(model,X3_train,y3_train,X3_test,y3_test)\n"
   ]
  },
  {
   "cell_type": "markdown",
   "id": "936db5e4",
   "metadata": {},
   "source": [
    "# Polynomial Regression:"
   ]
  },
  {
   "cell_type": "code",
   "execution_count": 28,
   "id": "dc594527",
   "metadata": {},
   "outputs": [
    {
     "name": "stdout",
     "output_type": "stream",
     "text": [
      "For maths score:\n",
      "MAE IS 3.684228573032451\n",
      "RMSE IS 4.742841040362824\n",
      "For reading score:\n",
      "MAE IS 3.059082474792467\n",
      "RMSE IS 3.931445207848479\n",
      "For writing score:\n",
      "MAE IS 2.599616934434812\n",
      "RMSE IS 3.4464325959424285\n"
     ]
    },
    {
     "data": {
      "image/png": "[encoded data removed]",
      "text/plain": [
       "<Figure size 432x288 with 1 Axes>"
      ]
     },
     "metadata": {
      "needs_background": "light"
     },
     "output_type": "display_data"
    }
   ],
   "source": [
    "from sklearn.pipeline import make_pipeline\n",
    "from sklearn.preprocessing import PolynomialFeatures\n",
    "pipe=make_pipeline(PolynomialFeatures(degree=5),LinearRegression())\n",
    "print(\"For maths score:\")\n",
    "run_model(pipe,X1_train,y1_train,X1_test,y1_test)\n",
    "print(\"For reading score:\")\n",
    "run_model(pipe,X2_train,y2_train,X2_test,y2_test)\n",
    "print(\"For writing score:\")\n",
    "run_model(pipe,X3_train,y3_train,X3_test,y3_test)"
   ]
  },
  {
   "cell_type": "markdown",
   "id": "6e82489b",
   "metadata": {},
   "source": [
    "# KNN:"
   ]
  },
  {
   "cell_type": "code",
   "execution_count": 29,
   "id": "d53befb0",
   "metadata": {},
   "outputs": [
    {
     "name": "stdout",
     "output_type": "stream",
     "text": [
      "For maths score:\n",
      "MAE IS 3.9210000000000003\n",
      "RMSE IS 4.89548771829733\n",
      "For reading score:\n",
      "MAE IS 2.698\n",
      "RMSE IS 3.452767006329851\n",
      "For writing score:\n",
      "MAE IS 2.5980000000000008\n",
      "RMSE IS 3.2191924453191674\n"
     ]
    },
    {
     "data": {
      "image/png": "[encoded data removed]",
      "text/plain": [
       "<Figure size 432x288 with 1 Axes>"
      ]
     },
     "metadata": {
      "needs_background": "light"
     },
     "output_type": "display_data"
    }
   ],
   "source": [
    "from sklearn.neighbors import KNeighborsRegressor\n",
    "model=KNeighborsRegressor(n_neighbors=5)\n",
    "print(\"For maths score:\")\n",
    "run_model(model,X1_train,y1_train,X1_test,y1_test)\n",
    "print(\"For reading score:\")\n",
    "run_model(model,X2_train,y2_train,X2_test,y2_test)\n",
    "print(\"For writing score:\")\n",
    "run_model(model,X3_train,y3_train,X3_test,y3_test)"
   ]
  },
  {
   "cell_type": "markdown",
   "id": "21724b4f",
   "metadata": {},
   "source": [
    "# SVR:"
   ]
  },
  {
   "cell_type": "code",
   "execution_count": 30,
   "id": "2794e64c",
   "metadata": {},
   "outputs": [
    {
     "name": "stdout",
     "output_type": "stream",
     "text": [
      "For maths score:\n",
      "MAE IS 3.019231640593591\n",
      "RMSE IS 3.8337393241537696\n",
      "For reading score:\n",
      "MAE IS 2.441946095971937\n",
      "RMSE IS 3.1280900796780253\n",
      "For writing score:\n",
      "MAE IS 2.1859787605745713\n",
      "RMSE IS 2.726047669106658\n"
     ]
    },
    {
     "data": {
      "image/png": "[encoded data removed]",
      "text/plain": [
       "<Figure size 432x288 with 1 Axes>"
      ]
     },
     "metadata": {
      "needs_background": "light"
     },
     "output_type": "display_data"
    }
   ],
   "source": [
    "from sklearn.svm import SVR\n",
    "from sklearn.model_selection import GridSearchCV\n",
    "svr=SVR()\n",
    "param_grid={'C':[0.01,0.1,1,5,10,100,1000], 'gamma':['auto','scale']}\n",
    "grid=GridSearchCV(svr,param_grid)\n",
    "print(\"For maths score:\")\n",
    "run_model(grid,X1_train,y1_train,X1_test,y1_test)\n",
    "print(\"For reading score:\")\n",
    "run_model(grid,X2_train,y2_train,X2_test,y2_test)\n",
    "print(\"For writing score:\")\n",
    "run_model(grid,X3_train,y3_train,X3_test,y3_test)\n"
   ]
  },
  {
   "cell_type": "markdown",
   "id": "1050d179",
   "metadata": {},
   "source": [
    "# Decision Tree:"
   ]
  },
  {
   "cell_type": "code",
   "execution_count": 31,
   "id": "49922cb6",
   "metadata": {},
   "outputs": [
    {
     "name": "stdout",
     "output_type": "stream",
     "text": [
      "For maths score:\n",
      "MAE IS 4.585\n",
      "RMSE IS 5.938223640113263\n",
      "For reading score:\n",
      "MAE IS 3.485\n",
      "RMSE IS 4.52133829745132\n",
      "For writing score:\n",
      "MAE IS 3.0125\n",
      "RMSE IS 3.8381310556050585\n"
     ]
    },
    {
     "data": {
      "image/png": "[encoded data removed]",
      "text/plain": [
       "<Figure size 432x288 with 1 Axes>"
      ]
     },
     "metadata": {
      "needs_background": "light"
     },
     "output_type": "display_data"
    }
   ],
   "source": [
    "from sklearn.tree import DecisionTreeRegressor\n",
    "model=DecisionTreeRegressor()\n",
    "print(\"For maths score:\")\n",
    "run_model(model,X1_train,y1_train,X1_test,y1_test)\n",
    "print(\"For reading score:\")\n",
    "run_model(model,X2_train,y2_train,X2_test,y2_test)\n",
    "print(\"For writing score:\")\n",
    "run_model(model,X3_train,y3_train,X3_test,y3_test)"
   ]
  },
  {
   "cell_type": "markdown",
   "id": "d464f113",
   "metadata": {},
   "source": [
    "# TASK 2(PART 2)--> ANSWER 2 AND 3"
   ]
  },
  {
   "cell_type": "code",
   "execution_count": 32,
   "id": "eae3e692",
   "metadata": {},
   "outputs": [],
   "source": [
    "X0=df.drop(['race/ethnicity'],axis=1)\n",
    "y0=df[\"race/ethnicity\"]"
   ]
  },
  {
   "cell_type": "code",
   "execution_count": 33,
   "id": "218592d4",
   "metadata": {},
   "outputs": [],
   "source": [
    "from sklearn.model_selection import train_test_split\n",
    "X0_train,X0_test,y0_train,y0_test=train_test_split(X0,y0,test_size=0.2,random_state=101)"
   ]
  },
  {
   "cell_type": "code",
   "execution_count": 34,
   "id": "191e3ca9",
   "metadata": {},
   "outputs": [],
   "source": [
    "def sample_model(model,X_train,y_train,X_test,y_test):\n",
    "    model.fit(X_train, y_train)\n",
    "    preds=model.predict(X_test)\n",
    "    from sklearn.metrics import classification_report,accuracy_score\n",
    "    accuracy=accuracy_score(y_test,preds)\n",
    "    report=classification_report(y_test,preds)\n",
    "    print(f'ACCURACY IS {accuracy}')\n",
    "    print(report)\n",
    "    sns.boxplot(x=y_test,y=preds)"
   ]
  },
  {
   "cell_type": "markdown",
   "id": "130f01cd",
   "metadata": {},
   "source": [
    "# Logistic Regression:"
   ]
  },
  {
   "cell_type": "code",
   "execution_count": 35,
   "id": "0459101c",
   "metadata": {},
   "outputs": [
    {
     "name": "stderr",
     "output_type": "stream",
     "text": [
      "c:\\users\\soosan shabnam\\appdata\\local\\programs\\python\\python39\\lib\\site-packages\\sklearn\\linear_model\\_logistic.py:814: ConvergenceWarning: lbfgs failed to converge (status=1):\n",
      "STOP: TOTAL NO. of ITERATIONS REACHED LIMIT.\n",
      "\n",
      "Increase the number of iterations (max_iter) or scale the data as shown in:\n",
      "    https://scikit-learn.org/stable/modules/preprocessing.html\n",
      "Please also refer to the documentation for alternative solver options:\n",
      "    https://scikit-learn.org/stable/modules/linear_model.html#logistic-regression\n",
      "  n_iter_i = _check_optimize_result(\n",
      "c:\\users\\soosan shabnam\\appdata\\local\\programs\\python\\python39\\lib\\site-packages\\sklearn\\metrics\\_classification.py:1308: UndefinedMetricWarning: Precision and F-score are ill-defined and being set to 0.0 in labels with no predicted samples. Use `zero_division` parameter to control this behavior.\n",
      "  _warn_prf(average, modifier, msg_start, len(result))\n",
      "c:\\users\\soosan shabnam\\appdata\\local\\programs\\python\\python39\\lib\\site-packages\\sklearn\\metrics\\_classification.py:1308: UndefinedMetricWarning: Precision and F-score are ill-defined and being set to 0.0 in labels with no predicted samples. Use `zero_division` parameter to control this behavior.\n",
      "  _warn_prf(average, modifier, msg_start, len(result))\n",
      "c:\\users\\soosan shabnam\\appdata\\local\\programs\\python\\python39\\lib\\site-packages\\sklearn\\metrics\\_classification.py:1308: UndefinedMetricWarning: Precision and F-score are ill-defined and being set to 0.0 in labels with no predicted samples. Use `zero_division` parameter to control this behavior.\n",
      "  _warn_prf(average, modifier, msg_start, len(result))\n"
     ]
    },
    {
     "name": "stdout",
     "output_type": "stream",
     "text": [
      "ACCURACY IS 0.3\n",
      "              precision    recall  f1-score   support\n",
      "\n",
      "           1       0.00      0.00      0.00        15\n",
      "           2       0.13      0.05      0.07        40\n",
      "           3       0.32      0.66      0.43        58\n",
      "           4       0.36      0.30      0.32        54\n",
      "           5       0.20      0.12      0.15        33\n",
      "\n",
      "    accuracy                           0.30       200\n",
      "   macro avg       0.20      0.22      0.19       200\n",
      "weighted avg       0.25      0.30      0.25       200\n",
      "\n"
     ]
    },
    {
     "data": {
      "image/png": "[encoded data removed]",
      "text/plain": [
       "<Figure size 432x288 with 1 Axes>"
      ]
     },
     "metadata": {
      "needs_background": "light"
     },
     "output_type": "display_data"
    }
   ],
   "source": [
    "from sklearn.linear_model import LogisticRegression\n",
    "model=LogisticRegression()\n",
    "sample_model(model,X0_train,y0_train,X0_test,y0_test)"
   ]
  },
  {
   "cell_type": "markdown",
   "id": "94282c17",
   "metadata": {},
   "source": [
    "# KNN:"
   ]
  },
  {
   "cell_type": "code",
   "execution_count": 36,
   "id": "3403a32e",
   "metadata": {},
   "outputs": [
    {
     "name": "stdout",
     "output_type": "stream",
     "text": [
      "ACCURACY IS 0.25\n",
      "              precision    recall  f1-score   support\n",
      "\n",
      "           1       0.06      0.07      0.06        15\n",
      "           2       0.23      0.25      0.24        40\n",
      "           3       0.26      0.43      0.32        58\n",
      "           4       0.32      0.19      0.24        54\n",
      "           5       0.36      0.12      0.18        33\n",
      "\n",
      "    accuracy                           0.25       200\n",
      "   macro avg       0.25      0.21      0.21       200\n",
      "weighted avg       0.27      0.25      0.24       200\n",
      "\n"
     ]
    },
    {
     "data": {
      "image/png": "[encoded data removed]",
      "text/plain": [
       "<Figure size 432x288 with 1 Axes>"
      ]
     },
     "metadata": {
      "needs_background": "light"
     },
     "output_type": "display_data"
    }
   ],
   "source": [
    "from sklearn.neighbors import KNeighborsClassifier\n",
    "model=KNeighborsClassifier(n_neighbors=5)\n",
    "sample_model(model,X0_train,y0_train,X0_test,y0_test)"
   ]
  },
  {
   "cell_type": "markdown",
   "id": "5d086260",
   "metadata": {},
   "source": [
    "# SVM:"
   ]
  },
  {
   "cell_type": "code",
   "execution_count": 37,
   "id": "a6460e89",
   "metadata": {},
   "outputs": [
    {
     "name": "stdout",
     "output_type": "stream",
     "text": [
      "ACCURACY IS 0.25\n",
      "              precision    recall  f1-score   support\n",
      "\n",
      "           1       0.06      0.07      0.06        15\n",
      "           2       0.23      0.25      0.24        40\n",
      "           3       0.26      0.43      0.32        58\n",
      "           4       0.32      0.19      0.24        54\n",
      "           5       0.36      0.12      0.18        33\n",
      "\n",
      "    accuracy                           0.25       200\n",
      "   macro avg       0.25      0.21      0.21       200\n",
      "weighted avg       0.27      0.25      0.24       200\n",
      "\n"
     ]
    },
    {
     "data": {
      "image/png": "[encoded data removed]",
      "text/plain": [
       "<Figure size 432x288 with 1 Axes>"
      ]
     },
     "metadata": {
      "needs_background": "light"
     },
     "output_type": "display_data"
    }
   ],
   "source": [
    "from sklearn.svm import SVC\n",
    "from sklearn.model_selection import GridSearchCV\n",
    "svc=SVC()\n",
    "param_grid={'C':[0.01,0.1,1,5,10,100,1000], 'gamma':['auto','scale']}\n",
    "grid=GridSearchCV(svc,param_grid)\n",
    "sample_model(model,X0_train,y0_train,X0_test,y0_test)"
   ]
  },
  {
   "cell_type": "markdown",
   "id": "945fbd45",
   "metadata": {},
   "source": [
    "# Random Forest:"
   ]
  },
  {
   "cell_type": "code",
   "execution_count": 38,
   "id": "8677e26d",
   "metadata": {},
   "outputs": [
    {
     "name": "stdout",
     "output_type": "stream",
     "text": [
      "ACCURACY IS 0.23\n",
      "              precision    recall  f1-score   support\n",
      "\n",
      "           1       0.00      0.00      0.00        15\n",
      "           2       0.22      0.17      0.19        40\n",
      "           3       0.27      0.45      0.33        58\n",
      "           4       0.17      0.13      0.15        54\n",
      "           5       0.27      0.18      0.22        33\n",
      "\n",
      "    accuracy                           0.23       200\n",
      "   macro avg       0.19      0.19      0.18       200\n",
      "weighted avg       0.21      0.23      0.21       200\n",
      "\n"
     ]
    },
    {
     "data": {
      "image/png": "[encoded data removed]",
      "text/plain": [
       "<Figure size 432x288 with 1 Axes>"
      ]
     },
     "metadata": {
      "needs_background": "light"
     },
     "output_type": "display_data"
    }
   ],
   "source": [
    "from sklearn.ensemble import RandomForestClassifier\n",
    "model=RandomForestClassifier()\n",
    "sample_model(model,X0_train,y0_train,X0_test,y0_test)"
   ]
  },
  {
   "cell_type": "markdown",
   "id": "4daa541a",
   "metadata": {},
   "source": [
    "# TASK 2(PART 2)--> ANSWER 4"
   ]
  },
  {
   "cell_type": "code",
   "execution_count": null,
   "id": "0bc746ec",
   "metadata": {},
   "outputs": [],
   "source": [
    " \"\"\" MAE: Mean absolute error is the arithmatic average of the absolute errors \n",
    "     between predicted value and the true value.\n",
    "     RMSE: Root mean squared error is a frequently used measure of differences between \n",
    "     values predicted by a model and the true value. RMSE is the standard deviation of \n",
    "     the residuals (prediction errors). \n",
    "     Accuracy: Accuracy is a metrix that generally describes how the model performs across\n",
    "     all classes. It calculates the ratio between the number of correct predictions and the \n",
    "     total number of predictions.\n",
    "     Classification Report: Its a performance evaluation matrix. It is used to show the precision,\n",
    "     recall, F1 score and support.\"\"\""
   ]
  },
  {
   "cell_type": "markdown",
   "id": "c8a9d244",
   "metadata": {},
   "source": [
    "# TASK 2(PART 2)--> ANSWER 5"
   ]
  },
  {
   "cell_type": "markdown",
   "id": "3a89d575",
   "metadata": {},
   "source": [
    "# Applying Elastic Net:"
   ]
  },
  {
   "cell_type": "code",
   "execution_count": 40,
   "id": "bba78aad",
   "metadata": {},
   "outputs": [],
   "source": [
    "def run_model(X_train,y_train,X_test,y_test):\n",
    "    from sklearn.linear_model import ElasticNet\n",
    "    base_elastic_net_model=ElasticNet()\n",
    "    param_grid={'alpha':[0.1,0.3,0.5,0.8,10,30,50,80,100],'l1_ratio':[0.1,0.3,0.5,0.7,0.9,0.95,0.99,1]}\n",
    "    from sklearn.model_selection import GridSearchCV\n",
    "    grid_model=GridSearchCV(estimator=base_elastic_net_model,param_grid=param_grid,scoring='neg_mean_squared_error',cv=5,verbose=2)\n",
    "    grid_model.fit(X_train,y_train)\n",
    "    preds=grid_model.predict(X_test)\n",
    "    from sklearn.metrics import mean_absolute_error, mean_squared_error, accuracy_score\n",
    "    rmse=np.sqrt(mean_squared_error(y_test,preds))\n",
    "    mae=mean_absolute_error(y_test,preds)\n",
    "    print(f'MAE IS {mae}')\n",
    "    print(f'RMSE IS {rmse}')\n",
    "    \n",
    "   "
   ]
  },
  {
   "cell_type": "code",
   "execution_count": 41,
   "id": "56a09e1e",
   "metadata": {},
   "outputs": [
    {
     "name": "stdout",
     "output_type": "stream",
     "text": [
      "For maths score:\n",
      "Fitting 5 folds for each of 72 candidates, totalling 360 fits\n",
      "[CV] END ............................alpha=0.1, l1_ratio=0.1; total time=   0.0s\n",
      "[CV] END ............................alpha=0.1, l1_ratio=0.1; total time=   0.0s\n",
      "[CV] END ............................alpha=0.1, l1_ratio=0.1; total time=   0.0s\n",
      "[CV] END ............................alpha=0.1, l1_ratio=0.1; total time=   0.0s\n",
      "[CV] END ............................alpha=0.1, l1_ratio=0.1; total time=   0.0s\n",
      "[CV] END ............................alpha=0.1, l1_ratio=0.3; total time=   0.0s\n",
      "[CV] END ............................alpha=0.1, l1_ratio=0.3; total time=   0.0s\n",
      "[CV] END ............................alpha=0.1, l1_ratio=0.3; total time=   0.0s\n",
      "[CV] END ............................alpha=0.1, l1_ratio=0.3; total time=   0.0s\n",
      "[CV] END ............................alpha=0.1, l1_ratio=0.3; total time=   0.0s\n",
      "[CV] END ............................alpha=0.1, l1_ratio=0.5; total time=   0.0s\n",
      "[CV] END ............................alpha=0.1, l1_ratio=0.5; total time=   0.0s\n",
      "[CV] END ............................alpha=0.1, l1_ratio=0.5; total time=   0.0s\n",
      "[CV] END ............................alpha=0.1, l1_ratio=0.5; total time=   0.0s\n",
      "[CV] END ............................alpha=0.1, l1_ratio=0.5; total time=   0.0s\n",
      "[CV] END ............................alpha=0.1, l1_ratio=0.7; total time=   0.0s\n",
      "[CV] END ............................alpha=0.1, l1_ratio=0.7; total time=   0.0s\n",
      "[CV] END ............................alpha=0.1, l1_ratio=0.7; total time=   0.0s\n",
      "[CV] END ............................alpha=0.1, l1_ratio=0.7; total time=   0.0s\n",
      "[CV] END ............................alpha=0.1, l1_ratio=0.7; total time=   0.0s\n",
      "[CV] END ............................alpha=0.1, l1_ratio=0.9; total time=   0.0s\n",
      "[CV] END ............................alpha=0.1, l1_ratio=0.9; total time=   0.0s\n",
      "[CV] END ............................alpha=0.1, l1_ratio=0.9; total time=   0.0s\n",
      "[CV] END ............................alpha=0.1, l1_ratio=0.9; total time=   0.0s\n",
      "[CV] END ............................alpha=0.1, l1_ratio=0.9; total time=   0.0s\n",
      "[CV] END ...........................alpha=0.1, l1_ratio=0.95; total time=   0.0s\n",
      "[CV] END ...........................alpha=0.1, l1_ratio=0.95; total time=   0.0s\n",
      "[CV] END ...........................alpha=0.1, l1_ratio=0.95; total time=   0.0s\n",
      "[CV] END ...........................alpha=0.1, l1_ratio=0.95; total time=   0.0s\n",
      "[CV] END ...........................alpha=0.1, l1_ratio=0.95; total time=   0.0s\n",
      "[CV] END ...........................alpha=0.1, l1_ratio=0.99; total time=   0.0s\n",
      "[CV] END ...........................alpha=0.1, l1_ratio=0.99; total time=   0.0s\n",
      "[CV] END ...........................alpha=0.1, l1_ratio=0.99; total time=   0.0s\n",
      "[CV] END ...........................alpha=0.1, l1_ratio=0.99; total time=   0.0s\n",
      "[CV] END ...........................alpha=0.1, l1_ratio=0.99; total time=   0.0s\n",
      "[CV] END ..............................alpha=0.1, l1_ratio=1; total time=   0.0s\n",
      "[CV] END ..............................alpha=0.1, l1_ratio=1; total time=   0.0s\n",
      "[CV] END ..............................alpha=0.1, l1_ratio=1; total time=   0.0s\n",
      "[CV] END ..............................alpha=0.1, l1_ratio=1; total time=   0.0s\n",
      "[CV] END ..............................alpha=0.1, l1_ratio=1; total time=   0.0s\n",
      "[CV] END ............................alpha=0.3, l1_ratio=0.1; total time=   0.0s\n",
      "[CV] END ............................alpha=0.3, l1_ratio=0.1; total time=   0.0s\n",
      "[CV] END ............................alpha=0.3, l1_ratio=0.1; total time=   0.0s\n",
      "[CV] END ............................alpha=0.3, l1_ratio=0.1; total time=   0.0s\n",
      "[CV] END ............................alpha=0.3, l1_ratio=0.1; total time=   0.0s\n",
      "[CV] END ............................alpha=0.3, l1_ratio=0.3; total time=   0.0s\n",
      "[CV] END ............................alpha=0.3, l1_ratio=0.3; total time=   0.0s\n",
      "[CV] END ............................alpha=0.3, l1_ratio=0.3; total time=   0.0s\n",
      "[CV] END ............................alpha=0.3, l1_ratio=0.3; total time=   0.0s\n",
      "[CV] END ............................alpha=0.3, l1_ratio=0.3; total time=   0.0s\n",
      "[CV] END ............................alpha=0.3, l1_ratio=0.5; total time=   0.0s\n",
      "[CV] END ............................alpha=0.3, l1_ratio=0.5; total time=   0.0s\n",
      "[CV] END ............................alpha=0.3, l1_ratio=0.5; total time=   0.0s\n",
      "[CV] END ............................alpha=0.3, l1_ratio=0.5; total time=   0.0s\n",
      "[CV] END ............................alpha=0.3, l1_ratio=0.5; total time=   0.0s\n",
      "[CV] END ............................alpha=0.3, l1_ratio=0.7; total time=   0.0s\n",
      "[CV] END ............................alpha=0.3, l1_ratio=0.7; total time=   0.0s\n",
      "[CV] END ............................alpha=0.3, l1_ratio=0.7; total time=   0.0s\n",
      "[CV] END ............................alpha=0.3, l1_ratio=0.7; total time=   0.0s\n",
      "[CV] END ............................alpha=0.3, l1_ratio=0.7; total time=   0.0s\n",
      "[CV] END ............................alpha=0.3, l1_ratio=0.9; total time=   0.0s\n",
      "[CV] END ............................alpha=0.3, l1_ratio=0.9; total time=   0.0s\n",
      "[CV] END ............................alpha=0.3, l1_ratio=0.9; total time=   0.0s\n",
      "[CV] END ............................alpha=0.3, l1_ratio=0.9; total time=   0.0s\n",
      "[CV] END ............................alpha=0.3, l1_ratio=0.9; total time=   0.0s\n",
      "[CV] END ...........................alpha=0.3, l1_ratio=0.95; total time=   0.0s\n",
      "[CV] END ...........................alpha=0.3, l1_ratio=0.95; total time=   0.0s\n",
      "[CV] END ...........................alpha=0.3, l1_ratio=0.95; total time=   0.0s\n",
      "[CV] END ...........................alpha=0.3, l1_ratio=0.95; total time=   0.0s\n",
      "[CV] END ...........................alpha=0.3, l1_ratio=0.95; total time=   0.0s\n",
      "[CV] END ...........................alpha=0.3, l1_ratio=0.99; total time=   0.0s\n",
      "[CV] END ...........................alpha=0.3, l1_ratio=0.99; total time=   0.0s\n",
      "[CV] END ...........................alpha=0.3, l1_ratio=0.99; total time=   0.0s\n",
      "[CV] END ...........................alpha=0.3, l1_ratio=0.99; total time=   0.0s\n",
      "[CV] END ...........................alpha=0.3, l1_ratio=0.99; total time=   0.0s\n",
      "[CV] END ..............................alpha=0.3, l1_ratio=1; total time=   0.0s\n",
      "[CV] END ..............................alpha=0.3, l1_ratio=1; total time=   0.0s\n",
      "[CV] END ..............................alpha=0.3, l1_ratio=1; total time=   0.0s\n",
      "[CV] END ..............................alpha=0.3, l1_ratio=1; total time=   0.0s\n",
      "[CV] END ..............................alpha=0.3, l1_ratio=1; total time=   0.0s\n",
      "[CV] END ............................alpha=0.5, l1_ratio=0.1; total time=   0.0s\n",
      "[CV] END ............................alpha=0.5, l1_ratio=0.1; total time=   0.0s\n",
      "[CV] END ............................alpha=0.5, l1_ratio=0.1; total time=   0.0s\n",
      "[CV] END ............................alpha=0.5, l1_ratio=0.1; total time=   0.0s\n",
      "[CV] END ............................alpha=0.5, l1_ratio=0.1; total time=   0.0s\n",
      "[CV] END ............................alpha=0.5, l1_ratio=0.3; total time=   0.0s\n",
      "[CV] END ............................alpha=0.5, l1_ratio=0.3; total time=   0.0s\n",
      "[CV] END ............................alpha=0.5, l1_ratio=0.3; total time=   0.0s\n",
      "[CV] END ............................alpha=0.5, l1_ratio=0.3; total time=   0.0s\n",
      "[CV] END ............................alpha=0.5, l1_ratio=0.3; total time=   0.0s\n",
      "[CV] END ............................alpha=0.5, l1_ratio=0.5; total time=   0.0s\n",
      "[CV] END ............................alpha=0.5, l1_ratio=0.5; total time=   0.0s\n",
      "[CV] END ............................alpha=0.5, l1_ratio=0.5; total time=   0.0s\n",
      "[CV] END ............................alpha=0.5, l1_ratio=0.5; total time=   0.0s\n",
      "[CV] END ............................alpha=0.5, l1_ratio=0.5; total time=   0.0s\n",
      "[CV] END ............................alpha=0.5, l1_ratio=0.7; total time=   0.0s\n",
      "[CV] END ............................alpha=0.5, l1_ratio=0.7; total time=   0.0s\n",
      "[CV] END ............................alpha=0.5, l1_ratio=0.7; total time=   0.0s\n",
      "[CV] END ............................alpha=0.5, l1_ratio=0.7; total time=   0.0s\n",
      "[CV] END ............................alpha=0.5, l1_ratio=0.7; total time=   0.0s\n",
      "[CV] END ............................alpha=0.5, l1_ratio=0.9; total time=   0.0s\n"
     ]
    },
    {
     "name": "stdout",
     "output_type": "stream",
     "text": [
      "[CV] END ............................alpha=0.5, l1_ratio=0.9; total time=   0.0s\n",
      "[CV] END ............................alpha=0.5, l1_ratio=0.9; total time=   0.0s\n",
      "[CV] END ............................alpha=0.5, l1_ratio=0.9; total time=   0.0s\n",
      "[CV] END ............................alpha=0.5, l1_ratio=0.9; total time=   0.0s\n",
      "[CV] END ...........................alpha=0.5, l1_ratio=0.95; total time=   0.0s\n",
      "[CV] END ...........................alpha=0.5, l1_ratio=0.95; total time=   0.0s\n",
      "[CV] END ...........................alpha=0.5, l1_ratio=0.95; total time=   0.0s\n",
      "[CV] END ...........................alpha=0.5, l1_ratio=0.95; total time=   0.0s\n",
      "[CV] END ...........................alpha=0.5, l1_ratio=0.95; total time=   0.0s\n",
      "[CV] END ...........................alpha=0.5, l1_ratio=0.99; total time=   0.0s\n",
      "[CV] END ...........................alpha=0.5, l1_ratio=0.99; total time=   0.0s\n",
      "[CV] END ...........................alpha=0.5, l1_ratio=0.99; total time=   0.0s\n",
      "[CV] END ...........................alpha=0.5, l1_ratio=0.99; total time=   0.0s\n",
      "[CV] END ...........................alpha=0.5, l1_ratio=0.99; total time=   0.0s\n",
      "[CV] END ..............................alpha=0.5, l1_ratio=1; total time=   0.0s\n",
      "[CV] END ..............................alpha=0.5, l1_ratio=1; total time=   0.0s\n",
      "[CV] END ..............................alpha=0.5, l1_ratio=1; total time=   0.0s\n",
      "[CV] END ..............................alpha=0.5, l1_ratio=1; total time=   0.0s\n",
      "[CV] END ..............................alpha=0.5, l1_ratio=1; total time=   0.0s\n",
      "[CV] END ............................alpha=0.8, l1_ratio=0.1; total time=   0.0s\n",
      "[CV] END ............................alpha=0.8, l1_ratio=0.1; total time=   0.0s\n",
      "[CV] END ............................alpha=0.8, l1_ratio=0.1; total time=   0.0s\n",
      "[CV] END ............................alpha=0.8, l1_ratio=0.1; total time=   0.0s\n",
      "[CV] END ............................alpha=0.8, l1_ratio=0.1; total time=   0.0s\n",
      "[CV] END ............................alpha=0.8, l1_ratio=0.3; total time=   0.0s\n",
      "[CV] END ............................alpha=0.8, l1_ratio=0.3; total time=   0.0s\n",
      "[CV] END ............................alpha=0.8, l1_ratio=0.3; total time=   0.0s\n",
      "[CV] END ............................alpha=0.8, l1_ratio=0.3; total time=   0.0s\n",
      "[CV] END ............................alpha=0.8, l1_ratio=0.3; total time=   0.0s\n",
      "[CV] END ............................alpha=0.8, l1_ratio=0.5; total time=   0.0s\n",
      "[CV] END ............................alpha=0.8, l1_ratio=0.5; total time=   0.0s\n",
      "[CV] END ............................alpha=0.8, l1_ratio=0.5; total time=   0.0s\n",
      "[CV] END ............................alpha=0.8, l1_ratio=0.5; total time=   0.0s\n",
      "[CV] END ............................alpha=0.8, l1_ratio=0.5; total time=   0.0s\n",
      "[CV] END ............................alpha=0.8, l1_ratio=0.7; total time=   0.0s\n",
      "[CV] END ............................alpha=0.8, l1_ratio=0.7; total time=   0.0s\n",
      "[CV] END ............................alpha=0.8, l1_ratio=0.7; total time=   0.0s\n",
      "[CV] END ............................alpha=0.8, l1_ratio=0.7; total time=   0.0s\n",
      "[CV] END ............................alpha=0.8, l1_ratio=0.7; total time=   0.0s\n",
      "[CV] END ............................alpha=0.8, l1_ratio=0.9; total time=   0.0s\n",
      "[CV] END ............................alpha=0.8, l1_ratio=0.9; total time=   0.0s\n",
      "[CV] END ............................alpha=0.8, l1_ratio=0.9; total time=   0.0s\n",
      "[CV] END ............................alpha=0.8, l1_ratio=0.9; total time=   0.0s\n",
      "[CV] END ............................alpha=0.8, l1_ratio=0.9; total time=   0.0s\n",
      "[CV] END ...........................alpha=0.8, l1_ratio=0.95; total time=   0.0s\n",
      "[CV] END ...........................alpha=0.8, l1_ratio=0.95; total time=   0.0s\n",
      "[CV] END ...........................alpha=0.8, l1_ratio=0.95; total time=   0.0s\n",
      "[CV] END ...........................alpha=0.8, l1_ratio=0.95; total time=   0.0s\n",
      "[CV] END ...........................alpha=0.8, l1_ratio=0.95; total time=   0.0s\n",
      "[CV] END ...........................alpha=0.8, l1_ratio=0.99; total time=   0.0s\n",
      "[CV] END ...........................alpha=0.8, l1_ratio=0.99; total time=   0.0s\n",
      "[CV] END ...........................alpha=0.8, l1_ratio=0.99; total time=   0.0s\n",
      "[CV] END ...........................alpha=0.8, l1_ratio=0.99; total time=   0.0s\n",
      "[CV] END ...........................alpha=0.8, l1_ratio=0.99; total time=   0.0s\n",
      "[CV] END ..............................alpha=0.8, l1_ratio=1; total time=   0.0s\n",
      "[CV] END ..............................alpha=0.8, l1_ratio=1; total time=   0.0s\n",
      "[CV] END ..............................alpha=0.8, l1_ratio=1; total time=   0.0s\n",
      "[CV] END ..............................alpha=0.8, l1_ratio=1; total time=   0.0s\n",
      "[CV] END ..............................alpha=0.8, l1_ratio=1; total time=   0.0s\n",
      "[CV] END .............................alpha=10, l1_ratio=0.1; total time=   0.0s\n",
      "[CV] END .............................alpha=10, l1_ratio=0.1; total time=   0.0s\n",
      "[CV] END .............................alpha=10, l1_ratio=0.1; total time=   0.0s\n",
      "[CV] END .............................alpha=10, l1_ratio=0.1; total time=   0.0s\n",
      "[CV] END .............................alpha=10, l1_ratio=0.1; total time=   0.0s\n",
      "[CV] END .............................alpha=10, l1_ratio=0.3; total time=   0.0s\n",
      "[CV] END .............................alpha=10, l1_ratio=0.3; total time=   0.0s\n",
      "[CV] END .............................alpha=10, l1_ratio=0.3; total time=   0.0s\n",
      "[CV] END .............................alpha=10, l1_ratio=0.3; total time=   0.0s\n",
      "[CV] END .............................alpha=10, l1_ratio=0.3; total time=   0.0s\n",
      "[CV] END .............................alpha=10, l1_ratio=0.5; total time=   0.0s\n",
      "[CV] END .............................alpha=10, l1_ratio=0.5; total time=   0.0s\n",
      "[CV] END .............................alpha=10, l1_ratio=0.5; total time=   0.0s\n",
      "[CV] END .............................alpha=10, l1_ratio=0.5; total time=   0.0s\n",
      "[CV] END .............................alpha=10, l1_ratio=0.5; total time=   0.0s\n",
      "[CV] END .............................alpha=10, l1_ratio=0.7; total time=   0.0s\n",
      "[CV] END .............................alpha=10, l1_ratio=0.7; total time=   0.0s\n",
      "[CV] END .............................alpha=10, l1_ratio=0.7; total time=   0.0s\n",
      "[CV] END .............................alpha=10, l1_ratio=0.7; total time=   0.0s\n",
      "[CV] END .............................alpha=10, l1_ratio=0.7; total time=   0.0s\n",
      "[CV] END .............................alpha=10, l1_ratio=0.9; total time=   0.0s\n",
      "[CV] END .............................alpha=10, l1_ratio=0.9; total time=   0.0s\n",
      "[CV] END .............................alpha=10, l1_ratio=0.9; total time=   0.0s\n",
      "[CV] END .............................alpha=10, l1_ratio=0.9; total time=   0.0s\n",
      "[CV] END .............................alpha=10, l1_ratio=0.9; total time=   0.0s\n",
      "[CV] END ............................alpha=10, l1_ratio=0.95; total time=   0.0s\n",
      "[CV] END ............................alpha=10, l1_ratio=0.95; total time=   0.0s\n",
      "[CV] END ............................alpha=10, l1_ratio=0.95; total time=   0.0s\n",
      "[CV] END ............................alpha=10, l1_ratio=0.95; total time=   0.0s\n",
      "[CV] END ............................alpha=10, l1_ratio=0.95; total time=   0.0s\n",
      "[CV] END ............................alpha=10, l1_ratio=0.99; total time=   0.0s\n",
      "[CV] END ............................alpha=10, l1_ratio=0.99; total time=   0.0s\n",
      "[CV] END ............................alpha=10, l1_ratio=0.99; total time=   0.0s\n",
      "[CV] END ............................alpha=10, l1_ratio=0.99; total time=   0.0s\n",
      "[CV] END ............................alpha=10, l1_ratio=0.99; total time=   0.0s\n",
      "[CV] END ...............................alpha=10, l1_ratio=1; total time=   0.0s\n",
      "[CV] END ...............................alpha=10, l1_ratio=1; total time=   0.0s\n",
      "[CV] END ...............................alpha=10, l1_ratio=1; total time=   0.0s\n",
      "[CV] END ...............................alpha=10, l1_ratio=1; total time=   0.0s\n",
      "[CV] END ...............................alpha=10, l1_ratio=1; total time=   0.0s\n",
      "[CV] END .............................alpha=30, l1_ratio=0.1; total time=   0.0s\n",
      "[CV] END .............................alpha=30, l1_ratio=0.1; total time=   0.0s\n",
      "[CV] END .............................alpha=30, l1_ratio=0.1; total time=   0.0s\n",
      "[CV] END .............................alpha=30, l1_ratio=0.1; total time=   0.0s\n",
      "[CV] END .............................alpha=30, l1_ratio=0.1; total time=   0.0s\n",
      "[CV] END .............................alpha=30, l1_ratio=0.3; total time=   0.0s\n",
      "[CV] END .............................alpha=30, l1_ratio=0.3; total time=   0.0s\n",
      "[CV] END .............................alpha=30, l1_ratio=0.3; total time=   0.0s\n",
      "[CV] END .............................alpha=30, l1_ratio=0.3; total time=   0.0s\n",
      "[CV] END .............................alpha=30, l1_ratio=0.3; total time=   0.0s\n",
      "[CV] END .............................alpha=30, l1_ratio=0.5; total time=   0.0s\n",
      "[CV] END .............................alpha=30, l1_ratio=0.5; total time=   0.0s\n",
      "[CV] END .............................alpha=30, l1_ratio=0.5; total time=   0.0s\n",
      "[CV] END .............................alpha=30, l1_ratio=0.5; total time=   0.0s\n",
      "[CV] END .............................alpha=30, l1_ratio=0.5; total time=   0.0s\n",
      "[CV] END .............................alpha=30, l1_ratio=0.7; total time=   0.0s\n",
      "[CV] END .............................alpha=30, l1_ratio=0.7; total time=   0.0s\n",
      "[CV] END .............................alpha=30, l1_ratio=0.7; total time=   0.0s\n",
      "[CV] END .............................alpha=30, l1_ratio=0.7; total time=   0.0s\n",
      "[CV] END .............................alpha=30, l1_ratio=0.7; total time=   0.0s\n",
      "[CV] END .............................alpha=30, l1_ratio=0.9; total time=   0.0s\n",
      "[CV] END .............................alpha=30, l1_ratio=0.9; total time=   0.0s\n",
      "[CV] END .............................alpha=30, l1_ratio=0.9; total time=   0.0s\n",
      "[CV] END .............................alpha=30, l1_ratio=0.9; total time=   0.0s\n",
      "[CV] END .............................alpha=30, l1_ratio=0.9; total time=   0.0s\n",
      "[CV] END ............................alpha=30, l1_ratio=0.95; total time=   0.0s\n",
      "[CV] END ............................alpha=30, l1_ratio=0.95; total time=   0.0s\n",
      "[CV] END ............................alpha=30, l1_ratio=0.95; total time=   0.0s\n",
      "[CV] END ............................alpha=30, l1_ratio=0.95; total time=   0.0s\n",
      "[CV] END ............................alpha=30, l1_ratio=0.95; total time=   0.0s\n"
     ]
    },
    {
     "name": "stdout",
     "output_type": "stream",
     "text": [
      "[CV] END ............................alpha=30, l1_ratio=0.99; total time=   0.0s\n",
      "[CV] END ............................alpha=30, l1_ratio=0.99; total time=   0.0s\n",
      "[CV] END ............................alpha=30, l1_ratio=0.99; total time=   0.0s\n",
      "[CV] END ............................alpha=30, l1_ratio=0.99; total time=   0.0s\n",
      "[CV] END ............................alpha=30, l1_ratio=0.99; total time=   0.0s\n",
      "[CV] END ...............................alpha=30, l1_ratio=1; total time=   0.0s\n",
      "[CV] END ...............................alpha=30, l1_ratio=1; total time=   0.0s\n",
      "[CV] END ...............................alpha=30, l1_ratio=1; total time=   0.0s\n",
      "[CV] END ...............................alpha=30, l1_ratio=1; total time=   0.0s\n",
      "[CV] END ...............................alpha=30, l1_ratio=1; total time=   0.0s\n",
      "[CV] END .............................alpha=50, l1_ratio=0.1; total time=   0.0s\n",
      "[CV] END .............................alpha=50, l1_ratio=0.1; total time=   0.0s\n",
      "[CV] END .............................alpha=50, l1_ratio=0.1; total time=   0.0s\n",
      "[CV] END .............................alpha=50, l1_ratio=0.1; total time=   0.0s\n",
      "[CV] END .............................alpha=50, l1_ratio=0.1; total time=   0.0s\n",
      "[CV] END .............................alpha=50, l1_ratio=0.3; total time=   0.0s\n",
      "[CV] END .............................alpha=50, l1_ratio=0.3; total time=   0.0s\n",
      "[CV] END .............................alpha=50, l1_ratio=0.3; total time=   0.0s\n",
      "[CV] END .............................alpha=50, l1_ratio=0.3; total time=   0.0s\n",
      "[CV] END .............................alpha=50, l1_ratio=0.3; total time=   0.0s\n",
      "[CV] END .............................alpha=50, l1_ratio=0.5; total time=   0.0s\n",
      "[CV] END .............................alpha=50, l1_ratio=0.5; total time=   0.0s\n",
      "[CV] END .............................alpha=50, l1_ratio=0.5; total time=   0.0s\n",
      "[CV] END .............................alpha=50, l1_ratio=0.5; total time=   0.0s\n",
      "[CV] END .............................alpha=50, l1_ratio=0.5; total time=   0.0s\n",
      "[CV] END .............................alpha=50, l1_ratio=0.7; total time=   0.0s\n",
      "[CV] END .............................alpha=50, l1_ratio=0.7; total time=   0.0s\n",
      "[CV] END .............................alpha=50, l1_ratio=0.7; total time=   0.0s\n",
      "[CV] END .............................alpha=50, l1_ratio=0.7; total time=   0.0s\n",
      "[CV] END .............................alpha=50, l1_ratio=0.7; total time=   0.0s\n",
      "[CV] END .............................alpha=50, l1_ratio=0.9; total time=   0.0s\n",
      "[CV] END .............................alpha=50, l1_ratio=0.9; total time=   0.0s\n",
      "[CV] END .............................alpha=50, l1_ratio=0.9; total time=   0.0s\n",
      "[CV] END .............................alpha=50, l1_ratio=0.9; total time=   0.0s\n",
      "[CV] END .............................alpha=50, l1_ratio=0.9; total time=   0.0s\n",
      "[CV] END ............................alpha=50, l1_ratio=0.95; total time=   0.0s\n",
      "[CV] END ............................alpha=50, l1_ratio=0.95; total time=   0.0s\n",
      "[CV] END ............................alpha=50, l1_ratio=0.95; total time=   0.0s\n",
      "[CV] END ............................alpha=50, l1_ratio=0.95; total time=   0.0s\n",
      "[CV] END ............................alpha=50, l1_ratio=0.95; total time=   0.0s\n",
      "[CV] END ............................alpha=50, l1_ratio=0.99; total time=   0.0s\n",
      "[CV] END ............................alpha=50, l1_ratio=0.99; total time=   0.0s\n",
      "[CV] END ............................alpha=50, l1_ratio=0.99; total time=   0.0s\n",
      "[CV] END ............................alpha=50, l1_ratio=0.99; total time=   0.0s\n",
      "[CV] END ............................alpha=50, l1_ratio=0.99; total time=   0.0s\n",
      "[CV] END ...............................alpha=50, l1_ratio=1; total time=   0.0s\n",
      "[CV] END ...............................alpha=50, l1_ratio=1; total time=   0.0s\n",
      "[CV] END ...............................alpha=50, l1_ratio=1; total time=   0.0s\n",
      "[CV] END ...............................alpha=50, l1_ratio=1; total time=   0.0s\n",
      "[CV] END ...............................alpha=50, l1_ratio=1; total time=   0.0s\n",
      "[CV] END .............................alpha=80, l1_ratio=0.1; total time=   0.0s\n",
      "[CV] END .............................alpha=80, l1_ratio=0.1; total time=   0.0s\n",
      "[CV] END .............................alpha=80, l1_ratio=0.1; total time=   0.0s\n",
      "[CV] END .............................alpha=80, l1_ratio=0.1; total time=   0.0s\n",
      "[CV] END .............................alpha=80, l1_ratio=0.1; total time=   0.0s\n",
      "[CV] END .............................alpha=80, l1_ratio=0.3; total time=   0.0s\n",
      "[CV] END .............................alpha=80, l1_ratio=0.3; total time=   0.0s\n",
      "[CV] END .............................alpha=80, l1_ratio=0.3; total time=   0.0s\n",
      "[CV] END .............................alpha=80, l1_ratio=0.3; total time=   0.0s\n",
      "[CV] END .............................alpha=80, l1_ratio=0.3; total time=   0.0s\n",
      "[CV] END .............................alpha=80, l1_ratio=0.5; total time=   0.0s\n",
      "[CV] END .............................alpha=80, l1_ratio=0.5; total time=   0.0s\n",
      "[CV] END .............................alpha=80, l1_ratio=0.5; total time=   0.0s\n",
      "[CV] END .............................alpha=80, l1_ratio=0.5; total time=   0.0s\n",
      "[CV] END .............................alpha=80, l1_ratio=0.5; total time=   0.0s\n",
      "[CV] END .............................alpha=80, l1_ratio=0.7; total time=   0.0s\n",
      "[CV] END .............................alpha=80, l1_ratio=0.7; total time=   0.0s\n",
      "[CV] END .............................alpha=80, l1_ratio=0.7; total time=   0.0s\n",
      "[CV] END .............................alpha=80, l1_ratio=0.7; total time=   0.0s\n",
      "[CV] END .............................alpha=80, l1_ratio=0.7; total time=   0.0s\n",
      "[CV] END .............................alpha=80, l1_ratio=0.9; total time=   0.0s\n",
      "[CV] END .............................alpha=80, l1_ratio=0.9; total time=   0.0s\n",
      "[CV] END .............................alpha=80, l1_ratio=0.9; total time=   0.0s\n",
      "[CV] END .............................alpha=80, l1_ratio=0.9; total time=   0.0s\n",
      "[CV] END .............................alpha=80, l1_ratio=0.9; total time=   0.0s\n",
      "[CV] END ............................alpha=80, l1_ratio=0.95; total time=   0.0s\n",
      "[CV] END ............................alpha=80, l1_ratio=0.95; total time=   0.0s\n",
      "[CV] END ............................alpha=80, l1_ratio=0.95; total time=   0.0s\n",
      "[CV] END ............................alpha=80, l1_ratio=0.95; total time=   0.0s\n",
      "[CV] END ............................alpha=80, l1_ratio=0.95; total time=   0.0s\n",
      "[CV] END ............................alpha=80, l1_ratio=0.99; total time=   0.0s\n",
      "[CV] END ............................alpha=80, l1_ratio=0.99; total time=   0.0s\n",
      "[CV] END ............................alpha=80, l1_ratio=0.99; total time=   0.0s\n",
      "[CV] END ............................alpha=80, l1_ratio=0.99; total time=   0.0s\n",
      "[CV] END ............................alpha=80, l1_ratio=0.99; total time=   0.0s\n",
      "[CV] END ...............................alpha=80, l1_ratio=1; total time=   0.0s\n",
      "[CV] END ...............................alpha=80, l1_ratio=1; total time=   0.0s\n",
      "[CV] END ...............................alpha=80, l1_ratio=1; total time=   0.0s\n",
      "[CV] END ...............................alpha=80, l1_ratio=1; total time=   0.0s\n",
      "[CV] END ...............................alpha=80, l1_ratio=1; total time=   0.0s\n",
      "[CV] END ............................alpha=100, l1_ratio=0.1; total time=   0.0s\n",
      "[CV] END ............................alpha=100, l1_ratio=0.1; total time=   0.0s\n",
      "[CV] END ............................alpha=100, l1_ratio=0.1; total time=   0.0s\n",
      "[CV] END ............................alpha=100, l1_ratio=0.1; total time=   0.0s\n",
      "[CV] END ............................alpha=100, l1_ratio=0.1; total time=   0.0s\n",
      "[CV] END ............................alpha=100, l1_ratio=0.3; total time=   0.0s\n",
      "[CV] END ............................alpha=100, l1_ratio=0.3; total time=   0.0s\n",
      "[CV] END ............................alpha=100, l1_ratio=0.3; total time=   0.0s\n",
      "[CV] END ............................alpha=100, l1_ratio=0.3; total time=   0.0s\n",
      "[CV] END ............................alpha=100, l1_ratio=0.3; total time=   0.0s\n",
      "[CV] END ............................alpha=100, l1_ratio=0.5; total time=   0.0s\n",
      "[CV] END ............................alpha=100, l1_ratio=0.5; total time=   0.0s\n",
      "[CV] END ............................alpha=100, l1_ratio=0.5; total time=   0.0s\n",
      "[CV] END ............................alpha=100, l1_ratio=0.5; total time=   0.0s\n",
      "[CV] END ............................alpha=100, l1_ratio=0.5; total time=   0.0s\n",
      "[CV] END ............................alpha=100, l1_ratio=0.7; total time=   0.0s\n",
      "[CV] END ............................alpha=100, l1_ratio=0.7; total time=   0.0s\n",
      "[CV] END ............................alpha=100, l1_ratio=0.7; total time=   0.0s\n",
      "[CV] END ............................alpha=100, l1_ratio=0.7; total time=   0.0s\n",
      "[CV] END ............................alpha=100, l1_ratio=0.7; total time=   0.0s\n",
      "[CV] END ............................alpha=100, l1_ratio=0.9; total time=   0.0s\n",
      "[CV] END ............................alpha=100, l1_ratio=0.9; total time=   0.0s\n",
      "[CV] END ............................alpha=100, l1_ratio=0.9; total time=   0.0s\n",
      "[CV] END ............................alpha=100, l1_ratio=0.9; total time=   0.0s\n",
      "[CV] END ............................alpha=100, l1_ratio=0.9; total time=   0.0s\n",
      "[CV] END ...........................alpha=100, l1_ratio=0.95; total time=   0.0s\n",
      "[CV] END ...........................alpha=100, l1_ratio=0.95; total time=   0.0s\n",
      "[CV] END ...........................alpha=100, l1_ratio=0.95; total time=   0.0s\n"
     ]
    },
    {
     "name": "stdout",
     "output_type": "stream",
     "text": [
      "[CV] END ...........................alpha=100, l1_ratio=0.95; total time=   0.0s\n",
      "[CV] END ...........................alpha=100, l1_ratio=0.95; total time=   0.0s\n",
      "[CV] END ...........................alpha=100, l1_ratio=0.99; total time=   0.0s\n",
      "[CV] END ...........................alpha=100, l1_ratio=0.99; total time=   0.0s\n",
      "[CV] END ...........................alpha=100, l1_ratio=0.99; total time=   0.0s\n",
      "[CV] END ...........................alpha=100, l1_ratio=0.99; total time=   0.0s\n",
      "[CV] END ...........................alpha=100, l1_ratio=0.99; total time=   0.0s\n",
      "[CV] END ..............................alpha=100, l1_ratio=1; total time=   0.0s\n",
      "[CV] END ..............................alpha=100, l1_ratio=1; total time=   0.0s\n",
      "[CV] END ..............................alpha=100, l1_ratio=1; total time=   0.0s\n",
      "[CV] END ..............................alpha=100, l1_ratio=1; total time=   0.0s\n",
      "[CV] END ..............................alpha=100, l1_ratio=1; total time=   0.0s\n",
      "MAE IS 3.042406118661162\n",
      "RMSE IS 3.8312282628975316\n",
      "For reading score:\n",
      "Fitting 5 folds for each of 72 candidates, totalling 360 fits\n",
      "[CV] END ............................alpha=0.1, l1_ratio=0.1; total time=   0.0s\n",
      "[CV] END ............................alpha=0.1, l1_ratio=0.1; total time=   0.0s\n",
      "[CV] END ............................alpha=0.1, l1_ratio=0.1; total time=   0.0s\n",
      "[CV] END ............................alpha=0.1, l1_ratio=0.1; total time=   0.0s\n",
      "[CV] END ............................alpha=0.1, l1_ratio=0.1; total time=   0.0s\n",
      "[CV] END ............................alpha=0.1, l1_ratio=0.3; total time=   0.0s\n",
      "[CV] END ............................alpha=0.1, l1_ratio=0.3; total time=   0.0s\n",
      "[CV] END ............................alpha=0.1, l1_ratio=0.3; total time=   0.0s\n",
      "[CV] END ............................alpha=0.1, l1_ratio=0.3; total time=   0.0s\n",
      "[CV] END ............................alpha=0.1, l1_ratio=0.3; total time=   0.0s\n",
      "[CV] END ............................alpha=0.1, l1_ratio=0.5; total time=   0.0s\n",
      "[CV] END ............................alpha=0.1, l1_ratio=0.5; total time=   0.0s\n",
      "[CV] END ............................alpha=0.1, l1_ratio=0.5; total time=   0.0s\n",
      "[CV] END ............................alpha=0.1, l1_ratio=0.5; total time=   0.0s\n",
      "[CV] END ............................alpha=0.1, l1_ratio=0.5; total time=   0.0s\n",
      "[CV] END ............................alpha=0.1, l1_ratio=0.7; total time=   0.0s\n",
      "[CV] END ............................alpha=0.1, l1_ratio=0.7; total time=   0.0s\n",
      "[CV] END ............................alpha=0.1, l1_ratio=0.7; total time=   0.0s\n",
      "[CV] END ............................alpha=0.1, l1_ratio=0.7; total time=   0.0s\n",
      "[CV] END ............................alpha=0.1, l1_ratio=0.7; total time=   0.0s\n",
      "[CV] END ............................alpha=0.1, l1_ratio=0.9; total time=   0.0s\n",
      "[CV] END ............................alpha=0.1, l1_ratio=0.9; total time=   0.0s\n",
      "[CV] END ............................alpha=0.1, l1_ratio=0.9; total time=   0.0s\n",
      "[CV] END ............................alpha=0.1, l1_ratio=0.9; total time=   0.0s\n",
      "[CV] END ............................alpha=0.1, l1_ratio=0.9; total time=   0.0s\n",
      "[CV] END ...........................alpha=0.1, l1_ratio=0.95; total time=   0.0s\n",
      "[CV] END ...........................alpha=0.1, l1_ratio=0.95; total time=   0.0s\n",
      "[CV] END ...........................alpha=0.1, l1_ratio=0.95; total time=   0.0s\n",
      "[CV] END ...........................alpha=0.1, l1_ratio=0.95; total time=   0.0s\n",
      "[CV] END ...........................alpha=0.1, l1_ratio=0.95; total time=   0.0s\n",
      "[CV] END ...........................alpha=0.1, l1_ratio=0.99; total time=   0.0s\n",
      "[CV] END ...........................alpha=0.1, l1_ratio=0.99; total time=   0.0s\n",
      "[CV] END ...........................alpha=0.1, l1_ratio=0.99; total time=   0.0s\n",
      "[CV] END ...........................alpha=0.1, l1_ratio=0.99; total time=   0.0s\n",
      "[CV] END ...........................alpha=0.1, l1_ratio=0.99; total time=   0.0s\n",
      "[CV] END ..............................alpha=0.1, l1_ratio=1; total time=   0.0s\n",
      "[CV] END ..............................alpha=0.1, l1_ratio=1; total time=   0.0s\n",
      "[CV] END ..............................alpha=0.1, l1_ratio=1; total time=   0.0s\n",
      "[CV] END ..............................alpha=0.1, l1_ratio=1; total time=   0.0s\n",
      "[CV] END ..............................alpha=0.1, l1_ratio=1; total time=   0.0s\n",
      "[CV] END ............................alpha=0.3, l1_ratio=0.1; total time=   0.0s\n",
      "[CV] END ............................alpha=0.3, l1_ratio=0.1; total time=   0.0s\n",
      "[CV] END ............................alpha=0.3, l1_ratio=0.1; total time=   0.0s\n",
      "[CV] END ............................alpha=0.3, l1_ratio=0.1; total time=   0.0s\n",
      "[CV] END ............................alpha=0.3, l1_ratio=0.1; total time=   0.0s\n",
      "[CV] END ............................alpha=0.3, l1_ratio=0.3; total time=   0.0s\n",
      "[CV] END ............................alpha=0.3, l1_ratio=0.3; total time=   0.0s\n",
      "[CV] END ............................alpha=0.3, l1_ratio=0.3; total time=   0.0s\n",
      "[CV] END ............................alpha=0.3, l1_ratio=0.3; total time=   0.0s\n",
      "[CV] END ............................alpha=0.3, l1_ratio=0.3; total time=   0.0s\n",
      "[CV] END ............................alpha=0.3, l1_ratio=0.5; total time=   0.0s\n",
      "[CV] END ............................alpha=0.3, l1_ratio=0.5; total time=   0.0s\n",
      "[CV] END ............................alpha=0.3, l1_ratio=0.5; total time=   0.0s\n",
      "[CV] END ............................alpha=0.3, l1_ratio=0.5; total time=   0.0s\n",
      "[CV] END ............................alpha=0.3, l1_ratio=0.5; total time=   0.0s\n",
      "[CV] END ............................alpha=0.3, l1_ratio=0.7; total time=   0.0s\n",
      "[CV] END ............................alpha=0.3, l1_ratio=0.7; total time=   0.0s\n",
      "[CV] END ............................alpha=0.3, l1_ratio=0.7; total time=   0.0s\n",
      "[CV] END ............................alpha=0.3, l1_ratio=0.7; total time=   0.0s\n",
      "[CV] END ............................alpha=0.3, l1_ratio=0.7; total time=   0.0s\n",
      "[CV] END ............................alpha=0.3, l1_ratio=0.9; total time=   0.0s\n",
      "[CV] END ............................alpha=0.3, l1_ratio=0.9; total time=   0.0s\n",
      "[CV] END ............................alpha=0.3, l1_ratio=0.9; total time=   0.0s\n",
      "[CV] END ............................alpha=0.3, l1_ratio=0.9; total time=   0.0s\n",
      "[CV] END ............................alpha=0.3, l1_ratio=0.9; total time=   0.0s\n",
      "[CV] END ...........................alpha=0.3, l1_ratio=0.95; total time=   0.0s\n",
      "[CV] END ...........................alpha=0.3, l1_ratio=0.95; total time=   0.0s\n",
      "[CV] END ...........................alpha=0.3, l1_ratio=0.95; total time=   0.0s\n",
      "[CV] END ...........................alpha=0.3, l1_ratio=0.95; total time=   0.0s\n",
      "[CV] END ...........................alpha=0.3, l1_ratio=0.95; total time=   0.0s\n",
      "[CV] END ...........................alpha=0.3, l1_ratio=0.99; total time=   0.0s\n",
      "[CV] END ...........................alpha=0.3, l1_ratio=0.99; total time=   0.0s\n",
      "[CV] END ...........................alpha=0.3, l1_ratio=0.99; total time=   0.0s\n",
      "[CV] END ...........................alpha=0.3, l1_ratio=0.99; total time=   0.0s\n",
      "[CV] END ...........................alpha=0.3, l1_ratio=0.99; total time=   0.0s\n",
      "[CV] END ..............................alpha=0.3, l1_ratio=1; total time=   0.0s\n",
      "[CV] END ..............................alpha=0.3, l1_ratio=1; total time=   0.0s\n",
      "[CV] END ..............................alpha=0.3, l1_ratio=1; total time=   0.0s\n",
      "[CV] END ..............................alpha=0.3, l1_ratio=1; total time=   0.0s\n",
      "[CV] END ..............................alpha=0.3, l1_ratio=1; total time=   0.0s\n",
      "[CV] END ............................alpha=0.5, l1_ratio=0.1; total time=   0.0s\n",
      "[CV] END ............................alpha=0.5, l1_ratio=0.1; total time=   0.0s\n",
      "[CV] END ............................alpha=0.5, l1_ratio=0.1; total time=   0.0s\n",
      "[CV] END ............................alpha=0.5, l1_ratio=0.1; total time=   0.0s\n",
      "[CV] END ............................alpha=0.5, l1_ratio=0.1; total time=   0.0s\n",
      "[CV] END ............................alpha=0.5, l1_ratio=0.3; total time=   0.0s\n",
      "[CV] END ............................alpha=0.5, l1_ratio=0.3; total time=   0.0s\n",
      "[CV] END ............................alpha=0.5, l1_ratio=0.3; total time=   0.0s\n",
      "[CV] END ............................alpha=0.5, l1_ratio=0.3; total time=   0.0s\n",
      "[CV] END ............................alpha=0.5, l1_ratio=0.3; total time=   0.0s\n",
      "[CV] END ............................alpha=0.5, l1_ratio=0.5; total time=   0.0s\n",
      "[CV] END ............................alpha=0.5, l1_ratio=0.5; total time=   0.0s\n",
      "[CV] END ............................alpha=0.5, l1_ratio=0.5; total time=   0.0s\n",
      "[CV] END ............................alpha=0.5, l1_ratio=0.5; total time=   0.0s\n",
      "[CV] END ............................alpha=0.5, l1_ratio=0.5; total time=   0.0s\n",
      "[CV] END ............................alpha=0.5, l1_ratio=0.7; total time=   0.0s\n",
      "[CV] END ............................alpha=0.5, l1_ratio=0.7; total time=   0.0s\n"
     ]
    },
    {
     "name": "stdout",
     "output_type": "stream",
     "text": [
      "[CV] END ............................alpha=0.5, l1_ratio=0.7; total time=   0.0s\n",
      "[CV] END ............................alpha=0.5, l1_ratio=0.7; total time=   0.0s\n",
      "[CV] END ............................alpha=0.5, l1_ratio=0.7; total time=   0.0s\n",
      "[CV] END ............................alpha=0.5, l1_ratio=0.9; total time=   0.0s\n",
      "[CV] END ............................alpha=0.5, l1_ratio=0.9; total time=   0.0s\n",
      "[CV] END ............................alpha=0.5, l1_ratio=0.9; total time=   0.0s\n",
      "[CV] END ............................alpha=0.5, l1_ratio=0.9; total time=   0.0s\n",
      "[CV] END ............................alpha=0.5, l1_ratio=0.9; total time=   0.0s\n",
      "[CV] END ...........................alpha=0.5, l1_ratio=0.95; total time=   0.0s\n",
      "[CV] END ...........................alpha=0.5, l1_ratio=0.95; total time=   0.0s\n",
      "[CV] END ...........................alpha=0.5, l1_ratio=0.95; total time=   0.0s\n",
      "[CV] END ...........................alpha=0.5, l1_ratio=0.95; total time=   0.0s\n",
      "[CV] END ...........................alpha=0.5, l1_ratio=0.95; total time=   0.0s\n",
      "[CV] END ...........................alpha=0.5, l1_ratio=0.99; total time=   0.0s\n",
      "[CV] END ...........................alpha=0.5, l1_ratio=0.99; total time=   0.0s\n",
      "[CV] END ...........................alpha=0.5, l1_ratio=0.99; total time=   0.0s\n",
      "[CV] END ...........................alpha=0.5, l1_ratio=0.99; total time=   0.0s\n",
      "[CV] END ...........................alpha=0.5, l1_ratio=0.99; total time=   0.0s\n",
      "[CV] END ..............................alpha=0.5, l1_ratio=1; total time=   0.0s\n",
      "[CV] END ..............................alpha=0.5, l1_ratio=1; total time=   0.0s\n",
      "[CV] END ..............................alpha=0.5, l1_ratio=1; total time=   0.0s\n",
      "[CV] END ..............................alpha=0.5, l1_ratio=1; total time=   0.0s\n",
      "[CV] END ..............................alpha=0.5, l1_ratio=1; total time=   0.0s\n",
      "[CV] END ............................alpha=0.8, l1_ratio=0.1; total time=   0.0s\n",
      "[CV] END ............................alpha=0.8, l1_ratio=0.1; total time=   0.0s\n",
      "[CV] END ............................alpha=0.8, l1_ratio=0.1; total time=   0.0s\n",
      "[CV] END ............................alpha=0.8, l1_ratio=0.1; total time=   0.0s\n",
      "[CV] END ............................alpha=0.8, l1_ratio=0.1; total time=   0.0s\n",
      "[CV] END ............................alpha=0.8, l1_ratio=0.3; total time=   0.0s\n",
      "[CV] END ............................alpha=0.8, l1_ratio=0.3; total time=   0.0s\n",
      "[CV] END ............................alpha=0.8, l1_ratio=0.3; total time=   0.0s\n",
      "[CV] END ............................alpha=0.8, l1_ratio=0.3; total time=   0.0s\n",
      "[CV] END ............................alpha=0.8, l1_ratio=0.3; total time=   0.0s\n",
      "[CV] END ............................alpha=0.8, l1_ratio=0.5; total time=   0.0s\n",
      "[CV] END ............................alpha=0.8, l1_ratio=0.5; total time=   0.0s\n",
      "[CV] END ............................alpha=0.8, l1_ratio=0.5; total time=   0.0s\n",
      "[CV] END ............................alpha=0.8, l1_ratio=0.5; total time=   0.0s\n",
      "[CV] END ............................alpha=0.8, l1_ratio=0.5; total time=   0.0s\n",
      "[CV] END ............................alpha=0.8, l1_ratio=0.7; total time=   0.0s\n",
      "[CV] END ............................alpha=0.8, l1_ratio=0.7; total time=   0.0s\n",
      "[CV] END ............................alpha=0.8, l1_ratio=0.7; total time=   0.0s\n",
      "[CV] END ............................alpha=0.8, l1_ratio=0.7; total time=   0.0s\n",
      "[CV] END ............................alpha=0.8, l1_ratio=0.7; total time=   0.0s\n",
      "[CV] END ............................alpha=0.8, l1_ratio=0.9; total time=   0.0s\n",
      "[CV] END ............................alpha=0.8, l1_ratio=0.9; total time=   0.0s\n",
      "[CV] END ............................alpha=0.8, l1_ratio=0.9; total time=   0.0s\n",
      "[CV] END ............................alpha=0.8, l1_ratio=0.9; total time=   0.0s\n",
      "[CV] END ............................alpha=0.8, l1_ratio=0.9; total time=   0.0s\n",
      "[CV] END ...........................alpha=0.8, l1_ratio=0.95; total time=   0.0s\n",
      "[CV] END ...........................alpha=0.8, l1_ratio=0.95; total time=   0.0s\n",
      "[CV] END ...........................alpha=0.8, l1_ratio=0.95; total time=   0.0s\n",
      "[CV] END ...........................alpha=0.8, l1_ratio=0.95; total time=   0.0s\n",
      "[CV] END ...........................alpha=0.8, l1_ratio=0.95; total time=   0.0s\n",
      "[CV] END ...........................alpha=0.8, l1_ratio=0.99; total time=   0.0s\n",
      "[CV] END ...........................alpha=0.8, l1_ratio=0.99; total time=   0.0s\n",
      "[CV] END ...........................alpha=0.8, l1_ratio=0.99; total time=   0.0s\n",
      "[CV] END ...........................alpha=0.8, l1_ratio=0.99; total time=   0.0s\n",
      "[CV] END ...........................alpha=0.8, l1_ratio=0.99; total time=   0.0s\n",
      "[CV] END ..............................alpha=0.8, l1_ratio=1; total time=   0.0s\n",
      "[CV] END ..............................alpha=0.8, l1_ratio=1; total time=   0.0s\n",
      "[CV] END ..............................alpha=0.8, l1_ratio=1; total time=   0.0s\n",
      "[CV] END ..............................alpha=0.8, l1_ratio=1; total time=   0.0s\n",
      "[CV] END ..............................alpha=0.8, l1_ratio=1; total time=   0.0s\n",
      "[CV] END .............................alpha=10, l1_ratio=0.1; total time=   0.0s\n",
      "[CV] END .............................alpha=10, l1_ratio=0.1; total time=   0.0s\n",
      "[CV] END .............................alpha=10, l1_ratio=0.1; total time=   0.0s\n",
      "[CV] END .............................alpha=10, l1_ratio=0.1; total time=   0.0s\n",
      "[CV] END .............................alpha=10, l1_ratio=0.1; total time=   0.0s\n",
      "[CV] END .............................alpha=10, l1_ratio=0.3; total time=   0.0s\n",
      "[CV] END .............................alpha=10, l1_ratio=0.3; total time=   0.0s\n",
      "[CV] END .............................alpha=10, l1_ratio=0.3; total time=   0.0s\n",
      "[CV] END .............................alpha=10, l1_ratio=0.3; total time=   0.0s\n",
      "[CV] END .............................alpha=10, l1_ratio=0.3; total time=   0.0s\n",
      "[CV] END .............................alpha=10, l1_ratio=0.5; total time=   0.0s\n",
      "[CV] END .............................alpha=10, l1_ratio=0.5; total time=   0.0s\n",
      "[CV] END .............................alpha=10, l1_ratio=0.5; total time=   0.0s\n",
      "[CV] END .............................alpha=10, l1_ratio=0.5; total time=   0.0s\n",
      "[CV] END .............................alpha=10, l1_ratio=0.5; total time=   0.0s\n",
      "[CV] END .............................alpha=10, l1_ratio=0.7; total time=   0.0s\n",
      "[CV] END .............................alpha=10, l1_ratio=0.7; total time=   0.0s\n",
      "[CV] END .............................alpha=10, l1_ratio=0.7; total time=   0.0s\n",
      "[CV] END .............................alpha=10, l1_ratio=0.7; total time=   0.0s\n",
      "[CV] END .............................alpha=10, l1_ratio=0.7; total time=   0.0s\n",
      "[CV] END .............................alpha=10, l1_ratio=0.9; total time=   0.0s\n",
      "[CV] END .............................alpha=10, l1_ratio=0.9; total time=   0.0s\n",
      "[CV] END .............................alpha=10, l1_ratio=0.9; total time=   0.0s\n",
      "[CV] END .............................alpha=10, l1_ratio=0.9; total time=   0.0s\n",
      "[CV] END .............................alpha=10, l1_ratio=0.9; total time=   0.0s\n",
      "[CV] END ............................alpha=10, l1_ratio=0.95; total time=   0.0s\n",
      "[CV] END ............................alpha=10, l1_ratio=0.95; total time=   0.0s\n",
      "[CV] END ............................alpha=10, l1_ratio=0.95; total time=   0.0s\n",
      "[CV] END ............................alpha=10, l1_ratio=0.95; total time=   0.0s\n",
      "[CV] END ............................alpha=10, l1_ratio=0.95; total time=   0.0s\n",
      "[CV] END ............................alpha=10, l1_ratio=0.99; total time=   0.0s\n",
      "[CV] END ............................alpha=10, l1_ratio=0.99; total time=   0.0s\n",
      "[CV] END ............................alpha=10, l1_ratio=0.99; total time=   0.0s\n",
      "[CV] END ............................alpha=10, l1_ratio=0.99; total time=   0.0s\n",
      "[CV] END ............................alpha=10, l1_ratio=0.99; total time=   0.0s\n",
      "[CV] END ...............................alpha=10, l1_ratio=1; total time=   0.0s\n",
      "[CV] END ...............................alpha=10, l1_ratio=1; total time=   0.0s\n",
      "[CV] END ...............................alpha=10, l1_ratio=1; total time=   0.0s\n",
      "[CV] END ...............................alpha=10, l1_ratio=1; total time=   0.0s\n",
      "[CV] END ...............................alpha=10, l1_ratio=1; total time=   0.0s\n",
      "[CV] END .............................alpha=30, l1_ratio=0.1; total time=   0.0s\n",
      "[CV] END .............................alpha=30, l1_ratio=0.1; total time=   0.0s\n",
      "[CV] END .............................alpha=30, l1_ratio=0.1; total time=   0.0s\n",
      "[CV] END .............................alpha=30, l1_ratio=0.1; total time=   0.0s\n",
      "[CV] END .............................alpha=30, l1_ratio=0.1; total time=   0.0s\n",
      "[CV] END .............................alpha=30, l1_ratio=0.3; total time=   0.0s\n"
     ]
    },
    {
     "name": "stdout",
     "output_type": "stream",
     "text": [
      "[CV] END .............................alpha=30, l1_ratio=0.3; total time=   0.0s\n",
      "[CV] END .............................alpha=30, l1_ratio=0.3; total time=   0.0s\n",
      "[CV] END .............................alpha=30, l1_ratio=0.3; total time=   0.0s\n",
      "[CV] END .............................alpha=30, l1_ratio=0.3; total time=   0.0s\n",
      "[CV] END .............................alpha=30, l1_ratio=0.5; total time=   0.0s\n",
      "[CV] END .............................alpha=30, l1_ratio=0.5; total time=   0.0s\n",
      "[CV] END .............................alpha=30, l1_ratio=0.5; total time=   0.0s\n",
      "[CV] END .............................alpha=30, l1_ratio=0.5; total time=   0.0s\n",
      "[CV] END .............................alpha=30, l1_ratio=0.5; total time=   0.0s\n",
      "[CV] END .............................alpha=30, l1_ratio=0.7; total time=   0.0s\n",
      "[CV] END .............................alpha=30, l1_ratio=0.7; total time=   0.0s\n",
      "[CV] END .............................alpha=30, l1_ratio=0.7; total time=   0.0s\n",
      "[CV] END .............................alpha=30, l1_ratio=0.7; total time=   0.0s\n",
      "[CV] END .............................alpha=30, l1_ratio=0.7; total time=   0.0s\n",
      "[CV] END .............................alpha=30, l1_ratio=0.9; total time=   0.0s\n",
      "[CV] END .............................alpha=30, l1_ratio=0.9; total time=   0.0s\n",
      "[CV] END .............................alpha=30, l1_ratio=0.9; total time=   0.0s\n",
      "[CV] END .............................alpha=30, l1_ratio=0.9; total time=   0.0s\n",
      "[CV] END .............................alpha=30, l1_ratio=0.9; total time=   0.0s\n",
      "[CV] END ............................alpha=30, l1_ratio=0.95; total time=   0.0s\n",
      "[CV] END ............................alpha=30, l1_ratio=0.95; total time=   0.0s\n",
      "[CV] END ............................alpha=30, l1_ratio=0.95; total time=   0.0s\n",
      "[CV] END ............................alpha=30, l1_ratio=0.95; total time=   0.0s\n",
      "[CV] END ............................alpha=30, l1_ratio=0.95; total time=   0.0s\n",
      "[CV] END ............................alpha=30, l1_ratio=0.99; total time=   0.0s\n",
      "[CV] END ............................alpha=30, l1_ratio=0.99; total time=   0.0s\n",
      "[CV] END ............................alpha=30, l1_ratio=0.99; total time=   0.0s\n",
      "[CV] END ............................alpha=30, l1_ratio=0.99; total time=   0.0s\n",
      "[CV] END ............................alpha=30, l1_ratio=0.99; total time=   0.0s\n",
      "[CV] END ...............................alpha=30, l1_ratio=1; total time=   0.0s\n",
      "[CV] END ...............................alpha=30, l1_ratio=1; total time=   0.0s\n",
      "[CV] END ...............................alpha=30, l1_ratio=1; total time=   0.0s\n",
      "[CV] END ...............................alpha=30, l1_ratio=1; total time=   0.0s\n",
      "[CV] END ...............................alpha=30, l1_ratio=1; total time=   0.0s\n",
      "[CV] END .............................alpha=50, l1_ratio=0.1; total time=   0.0s\n",
      "[CV] END .............................alpha=50, l1_ratio=0.1; total time=   0.0s\n",
      "[CV] END .............................alpha=50, l1_ratio=0.1; total time=   0.0s\n",
      "[CV] END .............................alpha=50, l1_ratio=0.1; total time=   0.0s\n",
      "[CV] END .............................alpha=50, l1_ratio=0.1; total time=   0.0s\n",
      "[CV] END .............................alpha=50, l1_ratio=0.3; total time=   0.0s\n",
      "[CV] END .............................alpha=50, l1_ratio=0.3; total time=   0.0s\n",
      "[CV] END .............................alpha=50, l1_ratio=0.3; total time=   0.0s\n",
      "[CV] END .............................alpha=50, l1_ratio=0.3; total time=   0.0s\n",
      "[CV] END .............................alpha=50, l1_ratio=0.3; total time=   0.0s\n",
      "[CV] END .............................alpha=50, l1_ratio=0.5; total time=   0.0s\n",
      "[CV] END .............................alpha=50, l1_ratio=0.5; total time=   0.0s\n",
      "[CV] END .............................alpha=50, l1_ratio=0.5; total time=   0.0s\n",
      "[CV] END .............................alpha=50, l1_ratio=0.5; total time=   0.0s\n",
      "[CV] END .............................alpha=50, l1_ratio=0.5; total time=   0.0s\n",
      "[CV] END .............................alpha=50, l1_ratio=0.7; total time=   0.0s\n",
      "[CV] END .............................alpha=50, l1_ratio=0.7; total time=   0.0s\n",
      "[CV] END .............................alpha=50, l1_ratio=0.7; total time=   0.0s\n",
      "[CV] END .............................alpha=50, l1_ratio=0.7; total time=   0.0s\n",
      "[CV] END .............................alpha=50, l1_ratio=0.7; total time=   0.0s\n",
      "[CV] END .............................alpha=50, l1_ratio=0.9; total time=   0.0s\n",
      "[CV] END .............................alpha=50, l1_ratio=0.9; total time=   0.0s\n",
      "[CV] END .............................alpha=50, l1_ratio=0.9; total time=   0.0s\n",
      "[CV] END .............................alpha=50, l1_ratio=0.9; total time=   0.0s\n",
      "[CV] END .............................alpha=50, l1_ratio=0.9; total time=   0.0s\n",
      "[CV] END ............................alpha=50, l1_ratio=0.95; total time=   0.0s\n",
      "[CV] END ............................alpha=50, l1_ratio=0.95; total time=   0.0s\n",
      "[CV] END ............................alpha=50, l1_ratio=0.95; total time=   0.0s\n",
      "[CV] END ............................alpha=50, l1_ratio=0.95; total time=   0.0s\n",
      "[CV] END ............................alpha=50, l1_ratio=0.95; total time=   0.0s\n",
      "[CV] END ............................alpha=50, l1_ratio=0.99; total time=   0.0s\n",
      "[CV] END ............................alpha=50, l1_ratio=0.99; total time=   0.0s\n",
      "[CV] END ............................alpha=50, l1_ratio=0.99; total time=   0.0s\n",
      "[CV] END ............................alpha=50, l1_ratio=0.99; total time=   0.0s\n",
      "[CV] END ............................alpha=50, l1_ratio=0.99; total time=   0.0s\n",
      "[CV] END ...............................alpha=50, l1_ratio=1; total time=   0.0s\n",
      "[CV] END ...............................alpha=50, l1_ratio=1; total time=   0.0s\n",
      "[CV] END ...............................alpha=50, l1_ratio=1; total time=   0.0s\n",
      "[CV] END ...............................alpha=50, l1_ratio=1; total time=   0.0s\n",
      "[CV] END ...............................alpha=50, l1_ratio=1; total time=   0.0s\n",
      "[CV] END .............................alpha=80, l1_ratio=0.1; total time=   0.0s\n",
      "[CV] END .............................alpha=80, l1_ratio=0.1; total time=   0.0s\n",
      "[CV] END .............................alpha=80, l1_ratio=0.1; total time=   0.0s\n",
      "[CV] END .............................alpha=80, l1_ratio=0.1; total time=   0.0s\n",
      "[CV] END .............................alpha=80, l1_ratio=0.1; total time=   0.0s\n",
      "[CV] END .............................alpha=80, l1_ratio=0.3; total time=   0.0s\n",
      "[CV] END .............................alpha=80, l1_ratio=0.3; total time=   0.0s\n",
      "[CV] END .............................alpha=80, l1_ratio=0.3; total time=   0.0s\n",
      "[CV] END .............................alpha=80, l1_ratio=0.3; total time=   0.0s\n",
      "[CV] END .............................alpha=80, l1_ratio=0.3; total time=   0.0s\n",
      "[CV] END .............................alpha=80, l1_ratio=0.5; total time=   0.0s\n",
      "[CV] END .............................alpha=80, l1_ratio=0.5; total time=   0.0s\n",
      "[CV] END .............................alpha=80, l1_ratio=0.5; total time=   0.0s\n",
      "[CV] END .............................alpha=80, l1_ratio=0.5; total time=   0.0s\n",
      "[CV] END .............................alpha=80, l1_ratio=0.5; total time=   0.0s\n",
      "[CV] END .............................alpha=80, l1_ratio=0.7; total time=   0.0s\n",
      "[CV] END .............................alpha=80, l1_ratio=0.7; total time=   0.0s\n",
      "[CV] END .............................alpha=80, l1_ratio=0.7; total time=   0.0s\n",
      "[CV] END .............................alpha=80, l1_ratio=0.7; total time=   0.0s\n",
      "[CV] END .............................alpha=80, l1_ratio=0.7; total time=   0.0s\n",
      "[CV] END .............................alpha=80, l1_ratio=0.9; total time=   0.0s\n",
      "[CV] END .............................alpha=80, l1_ratio=0.9; total time=   0.0s\n",
      "[CV] END .............................alpha=80, l1_ratio=0.9; total time=   0.0s\n",
      "[CV] END .............................alpha=80, l1_ratio=0.9; total time=   0.0s\n",
      "[CV] END .............................alpha=80, l1_ratio=0.9; total time=   0.0s\n",
      "[CV] END ............................alpha=80, l1_ratio=0.95; total time=   0.0s\n",
      "[CV] END ............................alpha=80, l1_ratio=0.95; total time=   0.0s\n",
      "[CV] END ............................alpha=80, l1_ratio=0.95; total time=   0.0s\n",
      "[CV] END ............................alpha=80, l1_ratio=0.95; total time=   0.0s\n",
      "[CV] END ............................alpha=80, l1_ratio=0.95; total time=   0.0s\n",
      "[CV] END ............................alpha=80, l1_ratio=0.99; total time=   0.0s\n",
      "[CV] END ............................alpha=80, l1_ratio=0.99; total time=   0.0s\n"
     ]
    },
    {
     "name": "stdout",
     "output_type": "stream",
     "text": [
      "[CV] END ............................alpha=80, l1_ratio=0.99; total time=   0.0s\n",
      "[CV] END ............................alpha=80, l1_ratio=0.99; total time=   0.0s\n",
      "[CV] END ............................alpha=80, l1_ratio=0.99; total time=   0.0s\n",
      "[CV] END ...............................alpha=80, l1_ratio=1; total time=   0.0s\n",
      "[CV] END ...............................alpha=80, l1_ratio=1; total time=   0.0s\n",
      "[CV] END ...............................alpha=80, l1_ratio=1; total time=   0.0s\n",
      "[CV] END ...............................alpha=80, l1_ratio=1; total time=   0.0s\n",
      "[CV] END ...............................alpha=80, l1_ratio=1; total time=   0.0s\n",
      "[CV] END ............................alpha=100, l1_ratio=0.1; total time=   0.0s\n",
      "[CV] END ............................alpha=100, l1_ratio=0.1; total time=   0.0s\n",
      "[CV] END ............................alpha=100, l1_ratio=0.1; total time=   0.0s\n",
      "[CV] END ............................alpha=100, l1_ratio=0.1; total time=   0.0s\n",
      "[CV] END ............................alpha=100, l1_ratio=0.1; total time=   0.0s\n",
      "[CV] END ............................alpha=100, l1_ratio=0.3; total time=   0.0s\n",
      "[CV] END ............................alpha=100, l1_ratio=0.3; total time=   0.0s\n",
      "[CV] END ............................alpha=100, l1_ratio=0.3; total time=   0.0s\n",
      "[CV] END ............................alpha=100, l1_ratio=0.3; total time=   0.0s\n",
      "[CV] END ............................alpha=100, l1_ratio=0.3; total time=   0.0s\n",
      "[CV] END ............................alpha=100, l1_ratio=0.5; total time=   0.0s\n",
      "[CV] END ............................alpha=100, l1_ratio=0.5; total time=   0.0s\n",
      "[CV] END ............................alpha=100, l1_ratio=0.5; total time=   0.0s\n",
      "[CV] END ............................alpha=100, l1_ratio=0.5; total time=   0.0s\n",
      "[CV] END ............................alpha=100, l1_ratio=0.5; total time=   0.0s\n",
      "[CV] END ............................alpha=100, l1_ratio=0.7; total time=   0.0s\n",
      "[CV] END ............................alpha=100, l1_ratio=0.7; total time=   0.0s\n",
      "[CV] END ............................alpha=100, l1_ratio=0.7; total time=   0.0s\n",
      "[CV] END ............................alpha=100, l1_ratio=0.7; total time=   0.0s\n",
      "[CV] END ............................alpha=100, l1_ratio=0.7; total time=   0.0s\n",
      "[CV] END ............................alpha=100, l1_ratio=0.9; total time=   0.0s\n",
      "[CV] END ............................alpha=100, l1_ratio=0.9; total time=   0.0s\n",
      "[CV] END ............................alpha=100, l1_ratio=0.9; total time=   0.0s\n",
      "[CV] END ............................alpha=100, l1_ratio=0.9; total time=   0.0s\n",
      "[CV] END ............................alpha=100, l1_ratio=0.9; total time=   0.0s\n",
      "[CV] END ...........................alpha=100, l1_ratio=0.95; total time=   0.0s\n",
      "[CV] END ...........................alpha=100, l1_ratio=0.95; total time=   0.0s\n",
      "[CV] END ...........................alpha=100, l1_ratio=0.95; total time=   0.0s\n",
      "[CV] END ...........................alpha=100, l1_ratio=0.95; total time=   0.0s\n",
      "[CV] END ...........................alpha=100, l1_ratio=0.95; total time=   0.0s\n",
      "[CV] END ...........................alpha=100, l1_ratio=0.99; total time=   0.0s\n",
      "[CV] END ...........................alpha=100, l1_ratio=0.99; total time=   0.0s\n",
      "[CV] END ...........................alpha=100, l1_ratio=0.99; total time=   0.0s\n",
      "[CV] END ...........................alpha=100, l1_ratio=0.99; total time=   0.0s\n",
      "[CV] END ...........................alpha=100, l1_ratio=0.99; total time=   0.0s\n",
      "[CV] END ..............................alpha=100, l1_ratio=1; total time=   0.0s\n",
      "[CV] END ..............................alpha=100, l1_ratio=1; total time=   0.0s\n",
      "[CV] END ..............................alpha=100, l1_ratio=1; total time=   0.0s\n",
      "[CV] END ..............................alpha=100, l1_ratio=1; total time=   0.0s\n",
      "[CV] END ..............................alpha=100, l1_ratio=1; total time=   0.0s\n",
      "MAE IS 2.4577749297070763\n",
      "RMSE IS 3.134334369769774\n",
      "For writing score:\n",
      "Fitting 5 folds for each of 72 candidates, totalling 360 fits\n",
      "[CV] END ............................alpha=0.1, l1_ratio=0.1; total time=   0.0s\n",
      "[CV] END ............................alpha=0.1, l1_ratio=0.1; total time=   0.0s\n",
      "[CV] END ............................alpha=0.1, l1_ratio=0.1; total time=   0.0s\n",
      "[CV] END ............................alpha=0.1, l1_ratio=0.1; total time=   0.0s\n",
      "[CV] END ............................alpha=0.1, l1_ratio=0.1; total time=   0.0s\n",
      "[CV] END ............................alpha=0.1, l1_ratio=0.3; total time=   0.0s\n",
      "[CV] END ............................alpha=0.1, l1_ratio=0.3; total time=   0.0s\n",
      "[CV] END ............................alpha=0.1, l1_ratio=0.3; total time=   0.0s\n",
      "[CV] END ............................alpha=0.1, l1_ratio=0.3; total time=   0.0s\n",
      "[CV] END ............................alpha=0.1, l1_ratio=0.3; total time=   0.0s\n",
      "[CV] END ............................alpha=0.1, l1_ratio=0.5; total time=   0.0s\n",
      "[CV] END ............................alpha=0.1, l1_ratio=0.5; total time=   0.0s\n",
      "[CV] END ............................alpha=0.1, l1_ratio=0.5; total time=   0.0s\n",
      "[CV] END ............................alpha=0.1, l1_ratio=0.5; total time=   0.0s\n",
      "[CV] END ............................alpha=0.1, l1_ratio=0.5; total time=   0.0s\n",
      "[CV] END ............................alpha=0.1, l1_ratio=0.7; total time=   0.0s\n",
      "[CV] END ............................alpha=0.1, l1_ratio=0.7; total time=   0.0s\n",
      "[CV] END ............................alpha=0.1, l1_ratio=0.7; total time=   0.0s\n",
      "[CV] END ............................alpha=0.1, l1_ratio=0.7; total time=   0.0s\n",
      "[CV] END ............................alpha=0.1, l1_ratio=0.7; total time=   0.0s\n",
      "[CV] END ............................alpha=0.1, l1_ratio=0.9; total time=   0.0s\n",
      "[CV] END ............................alpha=0.1, l1_ratio=0.9; total time=   0.0s\n",
      "[CV] END ............................alpha=0.1, l1_ratio=0.9; total time=   0.0s\n",
      "[CV] END ............................alpha=0.1, l1_ratio=0.9; total time=   0.0s\n",
      "[CV] END ............................alpha=0.1, l1_ratio=0.9; total time=   0.0s\n",
      "[CV] END ...........................alpha=0.1, l1_ratio=0.95; total time=   0.0s\n",
      "[CV] END ...........................alpha=0.1, l1_ratio=0.95; total time=   0.0s\n",
      "[CV] END ...........................alpha=0.1, l1_ratio=0.95; total time=   0.0s\n",
      "[CV] END ...........................alpha=0.1, l1_ratio=0.95; total time=   0.0s\n",
      "[CV] END ...........................alpha=0.1, l1_ratio=0.95; total time=   0.0s\n",
      "[CV] END ...........................alpha=0.1, l1_ratio=0.99; total time=   0.0s\n",
      "[CV] END ...........................alpha=0.1, l1_ratio=0.99; total time=   0.0s\n",
      "[CV] END ...........................alpha=0.1, l1_ratio=0.99; total time=   0.0s\n",
      "[CV] END ...........................alpha=0.1, l1_ratio=0.99; total time=   0.0s\n",
      "[CV] END ...........................alpha=0.1, l1_ratio=0.99; total time=   0.0s\n",
      "[CV] END ..............................alpha=0.1, l1_ratio=1; total time=   0.0s\n",
      "[CV] END ..............................alpha=0.1, l1_ratio=1; total time=   0.0s\n",
      "[CV] END ..............................alpha=0.1, l1_ratio=1; total time=   0.0s\n",
      "[CV] END ..............................alpha=0.1, l1_ratio=1; total time=   0.0s\n",
      "[CV] END ..............................alpha=0.1, l1_ratio=1; total time=   0.0s\n",
      "[CV] END ............................alpha=0.3, l1_ratio=0.1; total time=   0.0s\n",
      "[CV] END ............................alpha=0.3, l1_ratio=0.1; total time=   0.0s\n",
      "[CV] END ............................alpha=0.3, l1_ratio=0.1; total time=   0.0s\n",
      "[CV] END ............................alpha=0.3, l1_ratio=0.1; total time=   0.0s\n",
      "[CV] END ............................alpha=0.3, l1_ratio=0.1; total time=   0.0s\n",
      "[CV] END ............................alpha=0.3, l1_ratio=0.3; total time=   0.0s\n",
      "[CV] END ............................alpha=0.3, l1_ratio=0.3; total time=   0.0s\n",
      "[CV] END ............................alpha=0.3, l1_ratio=0.3; total time=   0.0s\n",
      "[CV] END ............................alpha=0.3, l1_ratio=0.3; total time=   0.0s\n",
      "[CV] END ............................alpha=0.3, l1_ratio=0.3; total time=   0.0s\n",
      "[CV] END ............................alpha=0.3, l1_ratio=0.5; total time=   0.0s\n",
      "[CV] END ............................alpha=0.3, l1_ratio=0.5; total time=   0.0s\n",
      "[CV] END ............................alpha=0.3, l1_ratio=0.5; total time=   0.0s\n",
      "[CV] END ............................alpha=0.3, l1_ratio=0.5; total time=   0.0s\n",
      "[CV] END ............................alpha=0.3, l1_ratio=0.5; total time=   0.0s\n",
      "[CV] END ............................alpha=0.3, l1_ratio=0.7; total time=   0.0s\n",
      "[CV] END ............................alpha=0.3, l1_ratio=0.7; total time=   0.0s\n",
      "[CV] END ............................alpha=0.3, l1_ratio=0.7; total time=   0.0s\n",
      "[CV] END ............................alpha=0.3, l1_ratio=0.7; total time=   0.0s\n",
      "[CV] END ............................alpha=0.3, l1_ratio=0.7; total time=   0.0s\n",
      "[CV] END ............................alpha=0.3, l1_ratio=0.9; total time=   0.0s\n",
      "[CV] END ............................alpha=0.3, l1_ratio=0.9; total time=   0.0s\n",
      "[CV] END ............................alpha=0.3, l1_ratio=0.9; total time=   0.0s\n",
      "[CV] END ............................alpha=0.3, l1_ratio=0.9; total time=   0.0s\n",
      "[CV] END ............................alpha=0.3, l1_ratio=0.9; total time=   0.0s\n"
     ]
    },
    {
     "name": "stdout",
     "output_type": "stream",
     "text": [
      "[CV] END ...........................alpha=0.3, l1_ratio=0.95; total time=   0.0s\n",
      "[CV] END ...........................alpha=0.3, l1_ratio=0.95; total time=   0.0s\n",
      "[CV] END ...........................alpha=0.3, l1_ratio=0.95; total time=   0.0s\n",
      "[CV] END ...........................alpha=0.3, l1_ratio=0.95; total time=   0.0s\n",
      "[CV] END ...........................alpha=0.3, l1_ratio=0.95; total time=   0.0s\n",
      "[CV] END ...........................alpha=0.3, l1_ratio=0.99; total time=   0.0s\n",
      "[CV] END ...........................alpha=0.3, l1_ratio=0.99; total time=   0.0s\n",
      "[CV] END ...........................alpha=0.3, l1_ratio=0.99; total time=   0.0s\n",
      "[CV] END ...........................alpha=0.3, l1_ratio=0.99; total time=   0.0s\n",
      "[CV] END ...........................alpha=0.3, l1_ratio=0.99; total time=   0.0s\n",
      "[CV] END ..............................alpha=0.3, l1_ratio=1; total time=   0.0s\n",
      "[CV] END ..............................alpha=0.3, l1_ratio=1; total time=   0.0s\n",
      "[CV] END ..............................alpha=0.3, l1_ratio=1; total time=   0.0s\n",
      "[CV] END ..............................alpha=0.3, l1_ratio=1; total time=   0.0s\n",
      "[CV] END ..............................alpha=0.3, l1_ratio=1; total time=   0.0s\n",
      "[CV] END ............................alpha=0.5, l1_ratio=0.1; total time=   0.0s\n",
      "[CV] END ............................alpha=0.5, l1_ratio=0.1; total time=   0.0s\n",
      "[CV] END ............................alpha=0.5, l1_ratio=0.1; total time=   0.0s\n",
      "[CV] END ............................alpha=0.5, l1_ratio=0.1; total time=   0.0s\n",
      "[CV] END ............................alpha=0.5, l1_ratio=0.1; total time=   0.0s\n",
      "[CV] END ............................alpha=0.5, l1_ratio=0.3; total time=   0.0s\n",
      "[CV] END ............................alpha=0.5, l1_ratio=0.3; total time=   0.0s\n",
      "[CV] END ............................alpha=0.5, l1_ratio=0.3; total time=   0.0s\n",
      "[CV] END ............................alpha=0.5, l1_ratio=0.3; total time=   0.0s\n",
      "[CV] END ............................alpha=0.5, l1_ratio=0.3; total time=   0.0s\n",
      "[CV] END ............................alpha=0.5, l1_ratio=0.5; total time=   0.0s\n",
      "[CV] END ............................alpha=0.5, l1_ratio=0.5; total time=   0.0s\n",
      "[CV] END ............................alpha=0.5, l1_ratio=0.5; total time=   0.0s\n",
      "[CV] END ............................alpha=0.5, l1_ratio=0.5; total time=   0.0s\n",
      "[CV] END ............................alpha=0.5, l1_ratio=0.5; total time=   0.0s\n",
      "[CV] END ............................alpha=0.5, l1_ratio=0.7; total time=   0.0s\n",
      "[CV] END ............................alpha=0.5, l1_ratio=0.7; total time=   0.0s\n",
      "[CV] END ............................alpha=0.5, l1_ratio=0.7; total time=   0.0s\n",
      "[CV] END ............................alpha=0.5, l1_ratio=0.7; total time=   0.0s\n",
      "[CV] END ............................alpha=0.5, l1_ratio=0.7; total time=   0.0s\n",
      "[CV] END ............................alpha=0.5, l1_ratio=0.9; total time=   0.0s\n",
      "[CV] END ............................alpha=0.5, l1_ratio=0.9; total time=   0.0s\n",
      "[CV] END ............................alpha=0.5, l1_ratio=0.9; total time=   0.0s\n",
      "[CV] END ............................alpha=0.5, l1_ratio=0.9; total time=   0.0s\n",
      "[CV] END ............................alpha=0.5, l1_ratio=0.9; total time=   0.0s\n",
      "[CV] END ...........................alpha=0.5, l1_ratio=0.95; total time=   0.0s\n",
      "[CV] END ...........................alpha=0.5, l1_ratio=0.95; total time=   0.0s\n",
      "[CV] END ...........................alpha=0.5, l1_ratio=0.95; total time=   0.0s\n",
      "[CV] END ...........................alpha=0.5, l1_ratio=0.95; total time=   0.0s\n",
      "[CV] END ...........................alpha=0.5, l1_ratio=0.95; total time=   0.0s\n",
      "[CV] END ...........................alpha=0.5, l1_ratio=0.99; total time=   0.0s\n",
      "[CV] END ...........................alpha=0.5, l1_ratio=0.99; total time=   0.0s\n",
      "[CV] END ...........................alpha=0.5, l1_ratio=0.99; total time=   0.0s\n",
      "[CV] END ...........................alpha=0.5, l1_ratio=0.99; total time=   0.0s\n",
      "[CV] END ...........................alpha=0.5, l1_ratio=0.99; total time=   0.0s\n",
      "[CV] END ..............................alpha=0.5, l1_ratio=1; total time=   0.0s\n",
      "[CV] END ..............................alpha=0.5, l1_ratio=1; total time=   0.0s\n",
      "[CV] END ..............................alpha=0.5, l1_ratio=1; total time=   0.0s\n",
      "[CV] END ..............................alpha=0.5, l1_ratio=1; total time=   0.0s\n",
      "[CV] END ..............................alpha=0.5, l1_ratio=1; total time=   0.0s\n",
      "[CV] END ............................alpha=0.8, l1_ratio=0.1; total time=   0.0s\n",
      "[CV] END ............................alpha=0.8, l1_ratio=0.1; total time=   0.0s\n",
      "[CV] END ............................alpha=0.8, l1_ratio=0.1; total time=   0.0s\n",
      "[CV] END ............................alpha=0.8, l1_ratio=0.1; total time=   0.0s\n",
      "[CV] END ............................alpha=0.8, l1_ratio=0.1; total time=   0.0s\n",
      "[CV] END ............................alpha=0.8, l1_ratio=0.3; total time=   0.0s\n",
      "[CV] END ............................alpha=0.8, l1_ratio=0.3; total time=   0.0s\n",
      "[CV] END ............................alpha=0.8, l1_ratio=0.3; total time=   0.0s\n",
      "[CV] END ............................alpha=0.8, l1_ratio=0.3; total time=   0.0s\n",
      "[CV] END ............................alpha=0.8, l1_ratio=0.3; total time=   0.0s\n",
      "[CV] END ............................alpha=0.8, l1_ratio=0.5; total time=   0.0s\n",
      "[CV] END ............................alpha=0.8, l1_ratio=0.5; total time=   0.0s\n",
      "[CV] END ............................alpha=0.8, l1_ratio=0.5; total time=   0.0s\n",
      "[CV] END ............................alpha=0.8, l1_ratio=0.5; total time=   0.0s\n",
      "[CV] END ............................alpha=0.8, l1_ratio=0.5; total time=   0.0s\n",
      "[CV] END ............................alpha=0.8, l1_ratio=0.7; total time=   0.0s\n",
      "[CV] END ............................alpha=0.8, l1_ratio=0.7; total time=   0.0s\n",
      "[CV] END ............................alpha=0.8, l1_ratio=0.7; total time=   0.0s\n",
      "[CV] END ............................alpha=0.8, l1_ratio=0.7; total time=   0.0s\n",
      "[CV] END ............................alpha=0.8, l1_ratio=0.7; total time=   0.0s\n",
      "[CV] END ............................alpha=0.8, l1_ratio=0.9; total time=   0.0s\n",
      "[CV] END ............................alpha=0.8, l1_ratio=0.9; total time=   0.0s\n",
      "[CV] END ............................alpha=0.8, l1_ratio=0.9; total time=   0.0s\n",
      "[CV] END ............................alpha=0.8, l1_ratio=0.9; total time=   0.0s\n",
      "[CV] END ............................alpha=0.8, l1_ratio=0.9; total time=   0.0s\n",
      "[CV] END ...........................alpha=0.8, l1_ratio=0.95; total time=   0.0s\n",
      "[CV] END ...........................alpha=0.8, l1_ratio=0.95; total time=   0.0s\n",
      "[CV] END ...........................alpha=0.8, l1_ratio=0.95; total time=   0.0s\n",
      "[CV] END ...........................alpha=0.8, l1_ratio=0.95; total time=   0.0s\n",
      "[CV] END ...........................alpha=0.8, l1_ratio=0.95; total time=   0.0s\n",
      "[CV] END ...........................alpha=0.8, l1_ratio=0.99; total time=   0.0s\n",
      "[CV] END ...........................alpha=0.8, l1_ratio=0.99; total time=   0.0s\n",
      "[CV] END ...........................alpha=0.8, l1_ratio=0.99; total time=   0.0s\n",
      "[CV] END ...........................alpha=0.8, l1_ratio=0.99; total time=   0.0s\n",
      "[CV] END ...........................alpha=0.8, l1_ratio=0.99; total time=   0.0s\n",
      "[CV] END ..............................alpha=0.8, l1_ratio=1; total time=   0.0s\n",
      "[CV] END ..............................alpha=0.8, l1_ratio=1; total time=   0.0s\n",
      "[CV] END ..............................alpha=0.8, l1_ratio=1; total time=   0.0s\n",
      "[CV] END ..............................alpha=0.8, l1_ratio=1; total time=   0.0s\n",
      "[CV] END ..............................alpha=0.8, l1_ratio=1; total time=   0.0s\n",
      "[CV] END .............................alpha=10, l1_ratio=0.1; total time=   0.0s\n",
      "[CV] END .............................alpha=10, l1_ratio=0.1; total time=   0.0s\n",
      "[CV] END .............................alpha=10, l1_ratio=0.1; total time=   0.0s\n",
      "[CV] END .............................alpha=10, l1_ratio=0.1; total time=   0.0s\n",
      "[CV] END .............................alpha=10, l1_ratio=0.1; total time=   0.0s\n",
      "[CV] END .............................alpha=10, l1_ratio=0.3; total time=   0.0s\n",
      "[CV] END .............................alpha=10, l1_ratio=0.3; total time=   0.0s\n",
      "[CV] END .............................alpha=10, l1_ratio=0.3; total time=   0.0s\n",
      "[CV] END .............................alpha=10, l1_ratio=0.3; total time=   0.0s\n",
      "[CV] END .............................alpha=10, l1_ratio=0.3; total time=   0.0s\n",
      "[CV] END .............................alpha=10, l1_ratio=0.5; total time=   0.0s\n",
      "[CV] END .............................alpha=10, l1_ratio=0.5; total time=   0.0s\n",
      "[CV] END .............................alpha=10, l1_ratio=0.5; total time=   0.0s\n",
      "[CV] END .............................alpha=10, l1_ratio=0.5; total time=   0.0s\n",
      "[CV] END .............................alpha=10, l1_ratio=0.5; total time=   0.0s\n",
      "[CV] END .............................alpha=10, l1_ratio=0.7; total time=   0.0s\n"
     ]
    },
    {
     "name": "stdout",
     "output_type": "stream",
     "text": [
      "[CV] END .............................alpha=10, l1_ratio=0.7; total time=   0.0s\n",
      "[CV] END .............................alpha=10, l1_ratio=0.7; total time=   0.0s\n",
      "[CV] END .............................alpha=10, l1_ratio=0.7; total time=   0.0s\n",
      "[CV] END .............................alpha=10, l1_ratio=0.7; total time=   0.0s\n",
      "[CV] END .............................alpha=10, l1_ratio=0.9; total time=   0.0s\n",
      "[CV] END .............................alpha=10, l1_ratio=0.9; total time=   0.0s\n",
      "[CV] END .............................alpha=10, l1_ratio=0.9; total time=   0.0s\n",
      "[CV] END .............................alpha=10, l1_ratio=0.9; total time=   0.0s\n",
      "[CV] END .............................alpha=10, l1_ratio=0.9; total time=   0.0s\n",
      "[CV] END ............................alpha=10, l1_ratio=0.95; total time=   0.0s\n",
      "[CV] END ............................alpha=10, l1_ratio=0.95; total time=   0.0s\n",
      "[CV] END ............................alpha=10, l1_ratio=0.95; total time=   0.0s\n",
      "[CV] END ............................alpha=10, l1_ratio=0.95; total time=   0.0s\n",
      "[CV] END ............................alpha=10, l1_ratio=0.95; total time=   0.0s\n",
      "[CV] END ............................alpha=10, l1_ratio=0.99; total time=   0.0s\n",
      "[CV] END ............................alpha=10, l1_ratio=0.99; total time=   0.0s\n",
      "[CV] END ............................alpha=10, l1_ratio=0.99; total time=   0.0s\n",
      "[CV] END ............................alpha=10, l1_ratio=0.99; total time=   0.0s\n",
      "[CV] END ............................alpha=10, l1_ratio=0.99; total time=   0.0s\n",
      "[CV] END ...............................alpha=10, l1_ratio=1; total time=   0.0s\n",
      "[CV] END ...............................alpha=10, l1_ratio=1; total time=   0.0s\n",
      "[CV] END ...............................alpha=10, l1_ratio=1; total time=   0.0s\n",
      "[CV] END ...............................alpha=10, l1_ratio=1; total time=   0.0s\n",
      "[CV] END ...............................alpha=10, l1_ratio=1; total time=   0.0s\n",
      "[CV] END .............................alpha=30, l1_ratio=0.1; total time=   0.0s\n",
      "[CV] END .............................alpha=30, l1_ratio=0.1; total time=   0.0s\n",
      "[CV] END .............................alpha=30, l1_ratio=0.1; total time=   0.0s\n",
      "[CV] END .............................alpha=30, l1_ratio=0.1; total time=   0.0s\n",
      "[CV] END .............................alpha=30, l1_ratio=0.1; total time=   0.0s\n",
      "[CV] END .............................alpha=30, l1_ratio=0.3; total time=   0.0s\n",
      "[CV] END .............................alpha=30, l1_ratio=0.3; total time=   0.0s\n",
      "[CV] END .............................alpha=30, l1_ratio=0.3; total time=   0.0s\n",
      "[CV] END .............................alpha=30, l1_ratio=0.3; total time=   0.0s\n",
      "[CV] END .............................alpha=30, l1_ratio=0.3; total time=   0.0s\n",
      "[CV] END .............................alpha=30, l1_ratio=0.5; total time=   0.0s\n",
      "[CV] END .............................alpha=30, l1_ratio=0.5; total time=   0.0s\n",
      "[CV] END .............................alpha=30, l1_ratio=0.5; total time=   0.0s\n",
      "[CV] END .............................alpha=30, l1_ratio=0.5; total time=   0.0s\n",
      "[CV] END .............................alpha=30, l1_ratio=0.5; total time=   0.0s\n",
      "[CV] END .............................alpha=30, l1_ratio=0.7; total time=   0.0s\n",
      "[CV] END .............................alpha=30, l1_ratio=0.7; total time=   0.0s\n",
      "[CV] END .............................alpha=30, l1_ratio=0.7; total time=   0.0s\n",
      "[CV] END .............................alpha=30, l1_ratio=0.7; total time=   0.0s\n",
      "[CV] END .............................alpha=30, l1_ratio=0.7; total time=   0.0s\n",
      "[CV] END .............................alpha=30, l1_ratio=0.9; total time=   0.0s\n",
      "[CV] END .............................alpha=30, l1_ratio=0.9; total time=   0.0s\n",
      "[CV] END .............................alpha=30, l1_ratio=0.9; total time=   0.0s\n",
      "[CV] END .............................alpha=30, l1_ratio=0.9; total time=   0.0s\n",
      "[CV] END .............................alpha=30, l1_ratio=0.9; total time=   0.0s\n",
      "[CV] END ............................alpha=30, l1_ratio=0.95; total time=   0.0s\n",
      "[CV] END ............................alpha=30, l1_ratio=0.95; total time=   0.0s\n",
      "[CV] END ............................alpha=30, l1_ratio=0.95; total time=   0.0s\n",
      "[CV] END ............................alpha=30, l1_ratio=0.95; total time=   0.0s\n",
      "[CV] END ............................alpha=30, l1_ratio=0.95; total time=   0.0s\n",
      "[CV] END ............................alpha=30, l1_ratio=0.99; total time=   0.0s\n",
      "[CV] END ............................alpha=30, l1_ratio=0.99; total time=   0.0s\n",
      "[CV] END ............................alpha=30, l1_ratio=0.99; total time=   0.0s\n",
      "[CV] END ............................alpha=30, l1_ratio=0.99; total time=   0.0s\n",
      "[CV] END ............................alpha=30, l1_ratio=0.99; total time=   0.0s\n",
      "[CV] END ...............................alpha=30, l1_ratio=1; total time=   0.0s\n",
      "[CV] END ...............................alpha=30, l1_ratio=1; total time=   0.0s\n",
      "[CV] END ...............................alpha=30, l1_ratio=1; total time=   0.0s\n",
      "[CV] END ...............................alpha=30, l1_ratio=1; total time=   0.0s\n",
      "[CV] END ...............................alpha=30, l1_ratio=1; total time=   0.0s\n",
      "[CV] END .............................alpha=50, l1_ratio=0.1; total time=   0.0s\n",
      "[CV] END .............................alpha=50, l1_ratio=0.1; total time=   0.0s\n",
      "[CV] END .............................alpha=50, l1_ratio=0.1; total time=   0.0s\n",
      "[CV] END .............................alpha=50, l1_ratio=0.1; total time=   0.0s\n",
      "[CV] END .............................alpha=50, l1_ratio=0.1; total time=   0.0s\n",
      "[CV] END .............................alpha=50, l1_ratio=0.3; total time=   0.0s\n",
      "[CV] END .............................alpha=50, l1_ratio=0.3; total time=   0.0s\n",
      "[CV] END .............................alpha=50, l1_ratio=0.3; total time=   0.0s\n",
      "[CV] END .............................alpha=50, l1_ratio=0.3; total time=   0.0s\n",
      "[CV] END .............................alpha=50, l1_ratio=0.3; total time=   0.0s\n",
      "[CV] END .............................alpha=50, l1_ratio=0.5; total time=   0.0s\n",
      "[CV] END .............................alpha=50, l1_ratio=0.5; total time=   0.0s\n",
      "[CV] END .............................alpha=50, l1_ratio=0.5; total time=   0.0s\n",
      "[CV] END .............................alpha=50, l1_ratio=0.5; total time=   0.0s\n",
      "[CV] END .............................alpha=50, l1_ratio=0.5; total time=   0.0s\n",
      "[CV] END .............................alpha=50, l1_ratio=0.7; total time=   0.0s\n",
      "[CV] END .............................alpha=50, l1_ratio=0.7; total time=   0.0s\n",
      "[CV] END .............................alpha=50, l1_ratio=0.7; total time=   0.0s\n",
      "[CV] END .............................alpha=50, l1_ratio=0.7; total time=   0.0s\n",
      "[CV] END .............................alpha=50, l1_ratio=0.7; total time=   0.0s\n",
      "[CV] END .............................alpha=50, l1_ratio=0.9; total time=   0.0s\n",
      "[CV] END .............................alpha=50, l1_ratio=0.9; total time=   0.0s\n",
      "[CV] END .............................alpha=50, l1_ratio=0.9; total time=   0.0s\n",
      "[CV] END .............................alpha=50, l1_ratio=0.9; total time=   0.0s\n",
      "[CV] END .............................alpha=50, l1_ratio=0.9; total time=   0.0s\n",
      "[CV] END ............................alpha=50, l1_ratio=0.95; total time=   0.0s\n",
      "[CV] END ............................alpha=50, l1_ratio=0.95; total time=   0.0s\n",
      "[CV] END ............................alpha=50, l1_ratio=0.95; total time=   0.0s\n",
      "[CV] END ............................alpha=50, l1_ratio=0.95; total time=   0.0s\n",
      "[CV] END ............................alpha=50, l1_ratio=0.95; total time=   0.0s\n",
      "[CV] END ............................alpha=50, l1_ratio=0.99; total time=   0.0s\n",
      "[CV] END ............................alpha=50, l1_ratio=0.99; total time=   0.0s\n",
      "[CV] END ............................alpha=50, l1_ratio=0.99; total time=   0.0s\n",
      "[CV] END ............................alpha=50, l1_ratio=0.99; total time=   0.0s\n",
      "[CV] END ............................alpha=50, l1_ratio=0.99; total time=   0.0s\n",
      "[CV] END ...............................alpha=50, l1_ratio=1; total time=   0.0s\n",
      "[CV] END ...............................alpha=50, l1_ratio=1; total time=   0.0s\n",
      "[CV] END ...............................alpha=50, l1_ratio=1; total time=   0.0s\n",
      "[CV] END ...............................alpha=50, l1_ratio=1; total time=   0.0s\n",
      "[CV] END ...............................alpha=50, l1_ratio=1; total time=   0.0s\n",
      "[CV] END .............................alpha=80, l1_ratio=0.1; total time=   0.0s\n",
      "[CV] END .............................alpha=80, l1_ratio=0.1; total time=   0.0s\n",
      "[CV] END .............................alpha=80, l1_ratio=0.1; total time=   0.0s\n",
      "[CV] END .............................alpha=80, l1_ratio=0.1; total time=   0.0s\n",
      "[CV] END .............................alpha=80, l1_ratio=0.1; total time=   0.0s\n",
      "[CV] END .............................alpha=80, l1_ratio=0.3; total time=   0.0s\n",
      "[CV] END .............................alpha=80, l1_ratio=0.3; total time=   0.0s\n",
      "[CV] END .............................alpha=80, l1_ratio=0.3; total time=   0.0s\n",
      "[CV] END .............................alpha=80, l1_ratio=0.3; total time=   0.0s\n",
      "[CV] END .............................alpha=80, l1_ratio=0.3; total time=   0.0s\n",
      "[CV] END .............................alpha=80, l1_ratio=0.5; total time=   0.0s\n",
      "[CV] END .............................alpha=80, l1_ratio=0.5; total time=   0.0s\n",
      "[CV] END .............................alpha=80, l1_ratio=0.5; total time=   0.0s\n",
      "[CV] END .............................alpha=80, l1_ratio=0.5; total time=   0.0s\n",
      "[CV] END .............................alpha=80, l1_ratio=0.5; total time=   0.0s\n",
      "[CV] END .............................alpha=80, l1_ratio=0.7; total time=   0.0s\n",
      "[CV] END .............................alpha=80, l1_ratio=0.7; total time=   0.0s\n",
      "[CV] END .............................alpha=80, l1_ratio=0.7; total time=   0.0s\n"
     ]
    },
    {
     "name": "stdout",
     "output_type": "stream",
     "text": [
      "[CV] END .............................alpha=80, l1_ratio=0.7; total time=   0.0s\n",
      "[CV] END .............................alpha=80, l1_ratio=0.7; total time=   0.0s\n",
      "[CV] END .............................alpha=80, l1_ratio=0.9; total time=   0.0s\n",
      "[CV] END .............................alpha=80, l1_ratio=0.9; total time=   0.0s\n",
      "[CV] END .............................alpha=80, l1_ratio=0.9; total time=   0.0s\n",
      "[CV] END .............................alpha=80, l1_ratio=0.9; total time=   0.0s\n",
      "[CV] END .............................alpha=80, l1_ratio=0.9; total time=   0.0s\n",
      "[CV] END ............................alpha=80, l1_ratio=0.95; total time=   0.0s\n",
      "[CV] END ............................alpha=80, l1_ratio=0.95; total time=   0.0s\n",
      "[CV] END ............................alpha=80, l1_ratio=0.95; total time=   0.0s\n",
      "[CV] END ............................alpha=80, l1_ratio=0.95; total time=   0.0s\n",
      "[CV] END ............................alpha=80, l1_ratio=0.95; total time=   0.0s\n",
      "[CV] END ............................alpha=80, l1_ratio=0.99; total time=   0.0s\n",
      "[CV] END ............................alpha=80, l1_ratio=0.99; total time=   0.0s\n",
      "[CV] END ............................alpha=80, l1_ratio=0.99; total time=   0.0s\n",
      "[CV] END ............................alpha=80, l1_ratio=0.99; total time=   0.0s\n",
      "[CV] END ............................alpha=80, l1_ratio=0.99; total time=   0.0s\n",
      "[CV] END ...............................alpha=80, l1_ratio=1; total time=   0.0s\n",
      "[CV] END ...............................alpha=80, l1_ratio=1; total time=   0.0s\n",
      "[CV] END ...............................alpha=80, l1_ratio=1; total time=   0.0s\n",
      "[CV] END ...............................alpha=80, l1_ratio=1; total time=   0.0s\n",
      "[CV] END ...............................alpha=80, l1_ratio=1; total time=   0.0s\n",
      "[CV] END ............................alpha=100, l1_ratio=0.1; total time=   0.0s\n",
      "[CV] END ............................alpha=100, l1_ratio=0.1; total time=   0.0s\n",
      "[CV] END ............................alpha=100, l1_ratio=0.1; total time=   0.0s\n",
      "[CV] END ............................alpha=100, l1_ratio=0.1; total time=   0.0s\n",
      "[CV] END ............................alpha=100, l1_ratio=0.1; total time=   0.0s\n",
      "[CV] END ............................alpha=100, l1_ratio=0.3; total time=   0.0s\n",
      "[CV] END ............................alpha=100, l1_ratio=0.3; total time=   0.0s\n",
      "[CV] END ............................alpha=100, l1_ratio=0.3; total time=   0.0s\n",
      "[CV] END ............................alpha=100, l1_ratio=0.3; total time=   0.0s\n",
      "[CV] END ............................alpha=100, l1_ratio=0.3; total time=   0.0s\n",
      "[CV] END ............................alpha=100, l1_ratio=0.5; total time=   0.0s\n",
      "[CV] END ............................alpha=100, l1_ratio=0.5; total time=   0.0s\n",
      "[CV] END ............................alpha=100, l1_ratio=0.5; total time=   0.0s\n",
      "[CV] END ............................alpha=100, l1_ratio=0.5; total time=   0.0s\n",
      "[CV] END ............................alpha=100, l1_ratio=0.5; total time=   0.0s\n",
      "[CV] END ............................alpha=100, l1_ratio=0.7; total time=   0.0s\n",
      "[CV] END ............................alpha=100, l1_ratio=0.7; total time=   0.0s\n",
      "[CV] END ............................alpha=100, l1_ratio=0.7; total time=   0.0s\n",
      "[CV] END ............................alpha=100, l1_ratio=0.7; total time=   0.0s\n",
      "[CV] END ............................alpha=100, l1_ratio=0.7; total time=   0.0s\n",
      "[CV] END ............................alpha=100, l1_ratio=0.9; total time=   0.0s\n",
      "[CV] END ............................alpha=100, l1_ratio=0.9; total time=   0.0s\n",
      "[CV] END ............................alpha=100, l1_ratio=0.9; total time=   0.0s\n",
      "[CV] END ............................alpha=100, l1_ratio=0.9; total time=   0.0s\n",
      "[CV] END ............................alpha=100, l1_ratio=0.9; total time=   0.0s\n",
      "[CV] END ...........................alpha=100, l1_ratio=0.95; total time=   0.0s\n",
      "[CV] END ...........................alpha=100, l1_ratio=0.95; total time=   0.0s\n",
      "[CV] END ...........................alpha=100, l1_ratio=0.95; total time=   0.0s\n",
      "[CV] END ...........................alpha=100, l1_ratio=0.95; total time=   0.0s\n",
      "[CV] END ...........................alpha=100, l1_ratio=0.95; total time=   0.0s\n",
      "[CV] END ...........................alpha=100, l1_ratio=0.99; total time=   0.0s\n",
      "[CV] END ...........................alpha=100, l1_ratio=0.99; total time=   0.0s\n",
      "[CV] END ...........................alpha=100, l1_ratio=0.99; total time=   0.0s\n",
      "[CV] END ...........................alpha=100, l1_ratio=0.99; total time=   0.0s\n",
      "[CV] END ...........................alpha=100, l1_ratio=0.99; total time=   0.0s\n",
      "[CV] END ..............................alpha=100, l1_ratio=1; total time=   0.0s\n",
      "[CV] END ..............................alpha=100, l1_ratio=1; total time=   0.0s\n",
      "[CV] END ..............................alpha=100, l1_ratio=1; total time=   0.0s\n",
      "[CV] END ..............................alpha=100, l1_ratio=1; total time=   0.0s\n",
      "[CV] END ..............................alpha=100, l1_ratio=1; total time=   0.0s\n",
      "MAE IS 2.169096110510574\n",
      "RMSE IS 2.7062481378924637\n"
     ]
    }
   ],
   "source": [
    "print(\"For maths score:\")\n",
    "run_model(X1_train,y1_train,X1_test,y1_test)\n",
    "print(\"For reading score:\")\n",
    "run_model(X2_train,y2_train,X2_test,y2_test)\n",
    "print(\"For writing score:\")\n",
    "run_model(X3_train,y3_train,X3_test,y3_test)"
   ]
  },
  {
   "cell_type": "markdown",
   "id": "77baa883",
   "metadata": {},
   "source": [
    "# GRID SEARCH ON SVR:"
   ]
  },
  {
   "cell_type": "code",
   "execution_count": 42,
   "id": "0ecf87f2",
   "metadata": {},
   "outputs": [],
   "source": [
    "def model1(X_train,y_train,X_test,y_test):\n",
    "    from sklearn.model_selection import GridSearchCV\n",
    "    svm=SVR()\n",
    "    param_grid={'C':[0.01,0.05,0.1,0.3,0.5,1],'kernel':['linear','sigmoid','poly','rbf'],'gamma':['auto','scale']}\n",
    "    grid=GridSearchCV(svm,param_grid)\n",
    "    from sklearn.preprocessing import StandardScaler\n",
    "    scaler=StandardScaler()\n",
    "    scaled_X_train=scaler.fit_transform(X_train)\n",
    "    scaled_X_test=scaler.transform(X_test)\n",
    "    grid_model=grid.fit(scaled_X_train,y_train)\n",
    "    preds=grid_model.predict(scaled_X_test)\n",
    "    from sklearn.metrics import mean_absolute_error, mean_squared_error, mean_absolute_error\n",
    "    rmse=np.sqrt(mean_squared_error(y_test,preds))\n",
    "    mae=mean_absolute_error(y_test,preds)\n",
    "    print(f'MAE IS {mae}')\n",
    "    print(f'RMSE IS {rmse}')\n",
    "\n",
    "\n"
   ]
  },
  {
   "cell_type": "code",
   "execution_count": 43,
   "id": "620b3ade",
   "metadata": {},
   "outputs": [
    {
     "name": "stdout",
     "output_type": "stream",
     "text": [
      "For maths score:\n",
      "MAE IS 3.0416184771765313\n",
      "RMSE IS 3.8451141039235006\n",
      "For reading score:\n",
      "MAE IS 2.465446042167081\n",
      "RMSE IS 3.1449176220235504\n",
      "For writing score:\n",
      "MAE IS 2.2063774694093534\n",
      "RMSE IS 2.75125530663983\n"
     ]
    }
   ],
   "source": [
    "print(\"For maths score:\")\n",
    "model1(X1_train,y1_train,X1_test,y1_test)\n",
    "print(\"For reading score:\")\n",
    "model1(X2_train,y2_train,X2_test,y2_test)\n",
    "print(\"For writing score:\")\n",
    "model1(X3_train,y3_train,X3_test,y3_test)"
   ]
  },
  {
   "cell_type": "markdown",
   "id": "4fbd328e",
   "metadata": {},
   "source": [
    "# applying GridSearch on RandomForest:"
   ]
  },
  {
   "cell_type": "code",
   "execution_count": 45,
   "id": "e70b5ad4",
   "metadata": {},
   "outputs": [],
   "source": [
    "\n",
    "def model_2(X_train,y_train,X_test,y_test):\n",
    "    from sklearn.model_selection import GridSearchCV\n",
    "    from sklearn.ensemble import RandomForestClassifier\n",
    "    n_estimators=[64,100,128,200]\n",
    "    max_features=[2,3,4,5]\n",
    "    bootstrap=[True,False]\n",
    "    oob_score=[True,False]\n",
    "    param_grid={'n_estimators':n_estimators,'max_features':max_features,'bootstrap':bootstrap,'oob_score':oob_score}\n",
    "    rfc=RandomForestClassifier()\n",
    "    grid=GridSearchCV(rfc,param_grid)\n",
    "    from sklearn.preprocessing import StandardScaler\n",
    "    scaler=StandardScaler()\n",
    "    scaled_X_train=scaler.fit_transform(X_train)\n",
    "    scaled_X_test=scaler.transform(X_test)\n",
    "    grid_model=grid.fit(scaled_X_train,y_train)\n",
    "    preds=grid_model.predict(scaled_X_test)\n",
    "    from sklearn.metrics import classification_report,accuracy_score\n",
    "    accuracy=accuracy_score(y_test,preds)\n",
    "    report=classification_report(y_test,preds)\n",
    "    print(f'ACCURACY IS {accuracy}')\n",
    "    print(report)\n",
    "    \n",
    "    \n",
    "    \n",
    "\n"
   ]
  },
  {
   "cell_type": "code",
   "execution_count": null,
   "id": "63cd799a",
   "metadata": {},
   "outputs": [],
   "source": []
  },
  {
   "cell_type": "code",
   "execution_count": 46,
   "id": "923fb5d9",
   "metadata": {},
   "outputs": [
    {
     "name": "stderr",
     "output_type": "stream",
     "text": [
      "c:\\users\\soosan shabnam\\appdata\\local\\programs\\python\\python39\\lib\\site-packages\\sklearn\\model_selection\\_validation.py:372: FitFailedWarning: \n",
      "80 fits failed out of a total of 320.\n",
      "The score on these train-test partitions for these parameters will be set to nan.\n",
      "If these failures are not expected, you can try to debug them by setting error_score='raise'.\n",
      "\n",
      "Below are more details about the failures:\n",
      "--------------------------------------------------------------------------------\n",
      "80 fits failed with the following error:\n",
      "Traceback (most recent call last):\n",
      "  File \"c:\\users\\soosan shabnam\\appdata\\local\\programs\\python\\python39\\lib\\site-packages\\sklearn\\model_selection\\_validation.py\", line 681, in _fit_and_score\n",
      "    estimator.fit(X_train, y_train, **fit_params)\n",
      "  File \"c:\\users\\soosan shabnam\\appdata\\local\\programs\\python\\python39\\lib\\site-packages\\sklearn\\ensemble\\_forest.py\", line 403, in fit\n",
      "    raise ValueError(\"Out of bag estimation only available if bootstrap=True\")\n",
      "ValueError: Out of bag estimation only available if bootstrap=True\n",
      "\n",
      "  warnings.warn(some_fits_failed_message, FitFailedWarning)\n",
      "c:\\users\\soosan shabnam\\appdata\\local\\programs\\python\\python39\\lib\\site-packages\\sklearn\\model_selection\\_search.py:969: UserWarning: One or more of the test scores are non-finite: [0.28375 0.3     0.29875 0.29    0.29625 0.27625 0.2975  0.30625 0.28125\n",
      " 0.2875  0.2925  0.295   0.305   0.2875  0.29375 0.30125 0.28    0.28\n",
      " 0.28125 0.305   0.2875  0.28625 0.28875 0.29875 0.28375 0.2875  0.29625\n",
      " 0.2875  0.295   0.30375 0.29    0.2875      nan 0.27375     nan 0.28375\n",
      "     nan 0.27375     nan 0.29        nan 0.26875     nan 0.28        nan\n",
      " 0.28125     nan 0.2775      nan 0.285       nan 0.2825      nan 0.26625\n",
      "     nan 0.2825      nan 0.27875     nan 0.2625      nan 0.2675      nan\n",
      " 0.27375]\n",
      "  warnings.warn(\n"
     ]
    },
    {
     "name": "stdout",
     "output_type": "stream",
     "text": [
      "ACCURACY IS 0.225\n",
      "              precision    recall  f1-score   support\n",
      "\n",
      "           1       0.00      0.00      0.00        15\n",
      "           2       0.17      0.12      0.14        40\n",
      "           3       0.26      0.43      0.32        58\n",
      "           4       0.20      0.17      0.18        54\n",
      "           5       0.27      0.18      0.22        33\n",
      "\n",
      "    accuracy                           0.23       200\n",
      "   macro avg       0.18      0.18      0.17       200\n",
      "weighted avg       0.21      0.23      0.21       200\n",
      "\n"
     ]
    }
   ],
   "source": [
    "model_2(X0_train,y0_train,X0_test,y0_test)"
   ]
  },
  {
   "cell_type": "markdown",
   "id": "73fff23b",
   "metadata": {},
   "source": [
    "# Spary my accuracy. Gotta revise hyperparameter tuning :("
   ]
  },
  {
   "cell_type": "code",
   "execution_count": null,
   "id": "b87cfae5",
   "metadata": {},
   "outputs": [],
   "source": []
  }
 ],
 "metadata": {
  "kernelspec": {
   "display_name": "Python 3 (ipykernel)",
   "language": "python",
   "name": "python3"
  },
  "language_info": {
   "codemirror_mode": {
    "name": "ipython",
    "version": 3
   },
   "file_extension": ".py",
   "mimetype": "text/x-python",
   "name": "python",
   "nbconvert_exporter": "python",
   "pygments_lexer": "ipython3",
   "version": "3.9.6"
  }
 },
 "nbformat": 4,
 "nbformat_minor": 5
}
